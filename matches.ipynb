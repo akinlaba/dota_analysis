{
 "cells": [
  {
   "cell_type": "code",
   "execution_count": 8,
   "id": "c2d0f43a",
   "metadata": {
    "tags": []
   },
   "outputs": [
    {
     "name": "stdout",
     "output_type": "stream",
     "text": [
      "Intel MKL WARNING: Support of Intel(R) Streaming SIMD Extensions 4.2 (Intel(R) SSE4.2) enabled only processors has been deprecated. Intel oneAPI Math Kernel Library 2025.0 will require Intel(R) Advanced Vector Extensions (Intel(R) AVX) instructions.\n",
      "Intel MKL WARNING: Support of Intel(R) Streaming SIMD Extensions 4.2 (Intel(R) SSE4.2) enabled only processors has been deprecated. Intel oneAPI Math Kernel Library 2025.0 will require Intel(R) Advanced Vector Extensions (Intel(R) AVX) instructions.\n"
     ]
    }
   ],
   "source": [
    "import requests, json, time, os\n",
    "import numpy as np\n",
    "import pandas as pd\n",
    "\n",
    "# https://docs.opendota.com/#tag/matches\n",
    "\n",
    "pd.set_option('display.max_columns', None)\n",
    "pd.set_option('display.max_rows', None)\n",
    "pd.set_option('display.float_format', lambda x: '%.9f' % x)"
   ]
  },
  {
   "cell_type": "markdown",
   "id": "930cfbc7-87ec-4612-9479-7929b36b912e",
   "metadata": {},
   "source": [
    "### Mostly leveraging Functional Programming Concepts. In the Future, I might Consider Using OOP if I need to Reproduce or Scale."
   ]
  },
  {
   "cell_type": "code",
   "execution_count": 22,
   "id": "da9ae945",
   "metadata": {
    "tags": []
   },
   "outputs": [],
   "source": [
    "def get_matches(account_id):\n",
    "    \"\"\"This is a function to retrieve all Dota 2 match IDs for a given account id\n",
    "    \"\"\"\n",
    "    acc_id = str(account_id)\n",
    "    request = requests.get(\"https://api.opendota.com/api/players/\" + acc_id + \"/matches\")\n",
    "    if request.ok:\n",
    "        print(\"GET: Success\")\n",
    "        data = request.json()\n",
    "    return pd.DataFrame(data)"
   ]
  },
  {
   "cell_type": "code",
   "execution_count": 18,
   "id": "e10b77aa",
   "metadata": {
    "tags": []
   },
   "outputs": [],
   "source": [
    "def get_heroes_info():\n",
    "    \"\"\"This function returns hero data and stats. The information changes over time\n",
    "    \"\"\"\n",
    "    data = requests.get(\"https://api.opendota.com/api/heroStats\").json()\n",
    "    return pd.DataFrame(data)"
   ]
  },
  {
   "cell_type": "code",
   "execution_count": 20,
   "id": "5bb1b5f5",
   "metadata": {
    "tags": []
   },
   "outputs": [],
   "source": [
    "df_heroes = get_heroes_info()"
   ]
  },
  {
   "cell_type": "code",
   "execution_count": 24,
   "id": "8e0637c7",
   "metadata": {
    "tags": []
   },
   "outputs": [
    {
     "name": "stdout",
     "output_type": "stream",
     "text": [
      "GET: 190040093\n"
     ]
    }
   ],
   "source": [
    "df = get_matches(account_id)"
   ]
  },
  {
   "cell_type": "code",
   "execution_count": 27,
   "id": "a207d6f3",
   "metadata": {
    "tags": []
   },
   "outputs": [
    {
     "name": "stdout",
     "output_type": "stream",
     "text": [
      "The total number of games played is 5826\n"
     ]
    }
   ],
   "source": [
    "print(f'The total number of games played is {df.shape[0]}')"
   ]
  },
  {
   "cell_type": "code",
   "execution_count": 28,
   "id": "9f2842de-5be5-4ca1-947a-2b3caaf2a5b9",
   "metadata": {
    "tags": []
   },
   "outputs": [
    {
     "name": "stdout",
     "output_type": "stream",
     "text": [
      "The total number of heroes in Dota is 124\n"
     ]
    }
   ],
   "source": [
    "print(f'The total number of heroes in Dota is {df_heroes.shape[0]}')"
   ]
  },
  {
   "cell_type": "code",
   "execution_count": 33,
   "id": "86fbdb55",
   "metadata": {
    "tags": []
   },
   "outputs": [],
   "source": [
    "# Mapping the heroe played in each match to their localized name\n",
    "df['hero'] = df['hero_id'].map(df_heroes.set_index('id')['localized_name'])"
   ]
  },
  {
   "cell_type": "code",
   "execution_count": 34,
   "id": "b149ea77",
   "metadata": {
    "tags": []
   },
   "outputs": [
    {
     "data": {
      "text/html": [
       "<div>\n",
       "<style scoped>\n",
       "    .dataframe tbody tr th:only-of-type {\n",
       "        vertical-align: middle;\n",
       "    }\n",
       "\n",
       "    .dataframe tbody tr th {\n",
       "        vertical-align: top;\n",
       "    }\n",
       "\n",
       "    .dataframe thead th {\n",
       "        text-align: right;\n",
       "    }\n",
       "</style>\n",
       "<table border=\"1\" class=\"dataframe\">\n",
       "  <thead>\n",
       "    <tr style=\"text-align: right;\">\n",
       "      <th></th>\n",
       "      <th>match_id</th>\n",
       "      <th>player_slot</th>\n",
       "      <th>radiant_win</th>\n",
       "      <th>duration</th>\n",
       "      <th>game_mode</th>\n",
       "      <th>lobby_type</th>\n",
       "      <th>hero_id</th>\n",
       "      <th>start_time</th>\n",
       "      <th>version</th>\n",
       "      <th>kills</th>\n",
       "      <th>deaths</th>\n",
       "      <th>assists</th>\n",
       "      <th>skill</th>\n",
       "      <th>average_rank</th>\n",
       "      <th>leaver_status</th>\n",
       "      <th>party_size</th>\n",
       "      <th>hero</th>\n",
       "    </tr>\n",
       "  </thead>\n",
       "  <tbody>\n",
       "    <tr>\n",
       "      <th>0</th>\n",
       "      <td>7423960106</td>\n",
       "      <td>0</td>\n",
       "      <td>False</td>\n",
       "      <td>2633</td>\n",
       "      <td>22</td>\n",
       "      <td>7</td>\n",
       "      <td>71</td>\n",
       "      <td>1699329495</td>\n",
       "      <td>NaN</td>\n",
       "      <td>7</td>\n",
       "      <td>4</td>\n",
       "      <td>14</td>\n",
       "      <td>NaN</td>\n",
       "      <td>34.000000000</td>\n",
       "      <td>0</td>\n",
       "      <td>NaN</td>\n",
       "      <td>Spirit Breaker</td>\n",
       "    </tr>\n",
       "    <tr>\n",
       "      <th>1</th>\n",
       "      <td>7423812519</td>\n",
       "      <td>130</td>\n",
       "      <td>False</td>\n",
       "      <td>3433</td>\n",
       "      <td>22</td>\n",
       "      <td>7</td>\n",
       "      <td>71</td>\n",
       "      <td>1699318810</td>\n",
       "      <td>NaN</td>\n",
       "      <td>6</td>\n",
       "      <td>9</td>\n",
       "      <td>23</td>\n",
       "      <td>NaN</td>\n",
       "      <td>34.000000000</td>\n",
       "      <td>0</td>\n",
       "      <td>NaN</td>\n",
       "      <td>Spirit Breaker</td>\n",
       "    </tr>\n",
       "    <tr>\n",
       "      <th>2</th>\n",
       "      <td>7421880778</td>\n",
       "      <td>3</td>\n",
       "      <td>True</td>\n",
       "      <td>2163</td>\n",
       "      <td>22</td>\n",
       "      <td>7</td>\n",
       "      <td>71</td>\n",
       "      <td>1699244568</td>\n",
       "      <td>NaN</td>\n",
       "      <td>5</td>\n",
       "      <td>3</td>\n",
       "      <td>9</td>\n",
       "      <td>NaN</td>\n",
       "      <td>34.000000000</td>\n",
       "      <td>0</td>\n",
       "      <td>NaN</td>\n",
       "      <td>Spirit Breaker</td>\n",
       "    </tr>\n",
       "    <tr>\n",
       "      <th>3</th>\n",
       "      <td>7421787804</td>\n",
       "      <td>0</td>\n",
       "      <td>True</td>\n",
       "      <td>2145</td>\n",
       "      <td>22</td>\n",
       "      <td>7</td>\n",
       "      <td>5</td>\n",
       "      <td>1699238474</td>\n",
       "      <td>NaN</td>\n",
       "      <td>0</td>\n",
       "      <td>7</td>\n",
       "      <td>11</td>\n",
       "      <td>NaN</td>\n",
       "      <td>34.000000000</td>\n",
       "      <td>0</td>\n",
       "      <td>NaN</td>\n",
       "      <td>Crystal Maiden</td>\n",
       "    </tr>\n",
       "    <tr>\n",
       "      <th>4</th>\n",
       "      <td>7421743038</td>\n",
       "      <td>128</td>\n",
       "      <td>False</td>\n",
       "      <td>1874</td>\n",
       "      <td>22</td>\n",
       "      <td>7</td>\n",
       "      <td>50</td>\n",
       "      <td>1699235368</td>\n",
       "      <td>NaN</td>\n",
       "      <td>2</td>\n",
       "      <td>5</td>\n",
       "      <td>13</td>\n",
       "      <td>NaN</td>\n",
       "      <td>33.000000000</td>\n",
       "      <td>0</td>\n",
       "      <td>NaN</td>\n",
       "      <td>Dazzle</td>\n",
       "    </tr>\n",
       "  </tbody>\n",
       "</table>\n",
       "</div>"
      ],
      "text/plain": [
       "     match_id  player_slot  radiant_win  duration  game_mode  lobby_type  \\\n",
       "0  7423960106            0        False      2633         22           7   \n",
       "1  7423812519          130        False      3433         22           7   \n",
       "2  7421880778            3         True      2163         22           7   \n",
       "3  7421787804            0         True      2145         22           7   \n",
       "4  7421743038          128        False      1874         22           7   \n",
       "\n",
       "   hero_id  start_time  version  kills  deaths  assists  skill  average_rank  \\\n",
       "0       71  1699329495      NaN      7       4       14    NaN  34.000000000   \n",
       "1       71  1699318810      NaN      6       9       23    NaN  34.000000000   \n",
       "2       71  1699244568      NaN      5       3        9    NaN  34.000000000   \n",
       "3        5  1699238474      NaN      0       7       11    NaN  34.000000000   \n",
       "4       50  1699235368      NaN      2       5       13    NaN  33.000000000   \n",
       "\n",
       "   leaver_status  party_size            hero  \n",
       "0              0         NaN  Spirit Breaker  \n",
       "1              0         NaN  Spirit Breaker  \n",
       "2              0         NaN  Spirit Breaker  \n",
       "3              0         NaN  Crystal Maiden  \n",
       "4              0         NaN          Dazzle  "
      ]
     },
     "execution_count": 34,
     "metadata": {},
     "output_type": "execute_result"
    }
   ],
   "source": [
    "df.head()"
   ]
  },
  {
   "cell_type": "code",
   "execution_count": 31,
   "id": "2bcfdb6f-daf9-4800-a715-408d56590be0",
   "metadata": {
    "tags": []
   },
   "outputs": [],
   "source": [
    "def df_to_csv(df, filename):\n",
    "    return df.to_csv(filename, index=False, encoding='utf-8')"
   ]
  },
  {
   "cell_type": "code",
   "execution_count": 32,
   "id": "57993d3c-1df3-4637-92c5-fd7fc2ae2594",
   "metadata": {
    "tags": []
   },
   "outputs": [],
   "source": [
    "def df_to_pickle(df, filename):\n",
    "    return df.to_pickle(filename)"
   ]
  },
  {
   "cell_type": "code",
   "execution_count": 42,
   "id": "741c179b",
   "metadata": {
    "tags": []
   },
   "outputs": [],
   "source": [
    "def get_matches_info(match_id):\n",
    "    m_id = str(match_id)\n",
    "    request = requests.get(\"https://api.opendota.com/api/matches/\" + m_id)\n",
    "    if request.ok:\n",
    "        # print(\"GET:\", m_id)\n",
    "        n_data = request.json()\n",
    "    return n_data"
   ]
  },
  {
   "cell_type": "code",
   "execution_count": 43,
   "id": "131d74d6",
   "metadata": {
    "tags": []
   },
   "outputs": [
    {
     "data": {
      "text/plain": [
       "(5826, 17)"
      ]
     },
     "execution_count": 43,
     "metadata": {},
     "output_type": "execute_result"
    }
   ],
   "source": [
    "df.shape"
   ]
  },
  {
   "cell_type": "code",
   "execution_count": 123,
   "id": "502c99df-c213-4b59-8eca-80d3f7a0cfb6",
   "metadata": {
    "tags": []
   },
   "outputs": [],
   "source": [
    "result = df.match_id\n",
    "try:\n",
    "    old_df = pd.read_csv('match.csv')\n",
    "    old_id = old_df.match_id\n",
    "    result = pd.Series(list(set(result) - set(old_id)))\n",
    "except FileNotFoundError as f:\n",
    "    pass"
   ]
  },
  {
   "cell_type": "code",
   "execution_count": 124,
   "id": "0b81c72f-9efe-4cd9-aed0-ba0dd969bb58",
   "metadata": {
    "tags": []
   },
   "outputs": [
    {
     "data": {
      "text/plain": [
       "Series([], dtype: object)"
      ]
     },
     "execution_count": 124,
     "metadata": {},
     "output_type": "execute_result"
    }
   ],
   "source": [
    "result"
   ]
  },
  {
   "cell_type": "code",
   "execution_count": 38,
   "id": "66576840",
   "metadata": {
    "tags": []
   },
   "outputs": [],
   "source": [
    "match_list = []"
   ]
  },
  {
   "cell_type": "code",
   "execution_count": 130,
   "id": "bca29c98-4f03-48eb-ba31-c5b3d207a3e0",
   "metadata": {
    "tags": []
   },
   "outputs": [],
   "source": [
    "# Trying to catch unboundlocalerrors and TypeErrors\n",
    "counter = 0\n",
    "for i in result:\n",
    "    try:\n",
    "        match_data = get_matches_info(i)\n",
    "        match_list.append(match_data)\n",
    "        counter+=1\n",
    "        # print(counter)\n",
    "    except TypeError:\n",
    "        continue\n",
    "    except UnboundLocalError:\n",
    "        match_data = get_matches_info(i)\n",
    "        match_list.append(match_data)\n",
    "        continue\n",
    "    time.sleep(3)"
   ]
  },
  {
   "cell_type": "code",
   "execution_count": 100,
   "id": "6d34fef3",
   "metadata": {
    "tags": []
   },
   "outputs": [
    {
     "name": "stdout",
     "output_type": "stream",
     "text": [
      "The total number of matches parsed is 5826\n"
     ]
    }
   ],
   "source": [
    "print(f'The total number of matches parsed is {len([i for i in match_list])}')\n"
   ]
  },
  {
   "cell_type": "code",
   "execution_count": 129,
   "id": "22944610",
   "metadata": {
    "tags": []
   },
   "outputs": [],
   "source": [
    "try:\n",
    "    # change filename to match_info\n",
    "    df_match = pd.read_csv('test.csv')\n",
    "    df_match = data.append(match_list, ignore_index=True)\n",
    "except FileNotFoundError as f:\n",
    "    df_match = pd.DataFrame(match_list)"
   ]
  },
  {
   "cell_type": "code",
   "execution_count": 125,
   "id": "c110556e",
   "metadata": {
    "tags": []
   },
   "outputs": [
    {
     "data": {
      "text/plain": [
       "(5826, 45)"
      ]
     },
     "execution_count": 125,
     "metadata": {},
     "output_type": "execute_result"
    }
   ],
   "source": [
    "df_match.shape"
   ]
  },
  {
   "cell_type": "code",
   "execution_count": 96,
   "id": "645f63ef-e1b2-4dae-a56b-43afb193ec75",
   "metadata": {
    "tags": []
   },
   "outputs": [],
   "source": [
    "df_to_csv(df_match, 'match_info.csv')\n",
    "df_to_csv(df_heroes, 'heroes.csv')\n",
    "df_to_csv(df, 'match.csv')"
   ]
  },
  {
   "cell_type": "code",
   "execution_count": 97,
   "id": "2c7339d3-4146-4596-9e98-2bc0b1a2c515",
   "metadata": {
    "tags": []
   },
   "outputs": [],
   "source": [
    "df_to_pickle(df_match, 'match_info.pkl')\n",
    "df_to_pickle(df_heroes, 'heroes.pkl')\n",
    "df_to_pickle(df, 'match.pkl')"
   ]
  },
  {
   "cell_type": "code",
   "execution_count": null,
   "id": "6f10d869",
   "metadata": {},
   "outputs": [],
   "source": []
  },
  {
   "cell_type": "code",
   "execution_count": null,
   "id": "79738aab-6e3b-43fa-abbb-084eccb14283",
   "metadata": {},
   "outputs": [],
   "source": []
  }
 ],
 "metadata": {
  "kernelspec": {
   "display_name": "Python 3 (ipykernel)",
   "language": "python",
   "name": "python3"
  },
  "language_info": {
   "codemirror_mode": {
    "name": "ipython",
    "version": 3
   },
   "file_extension": ".py",
   "mimetype": "text/x-python",
   "name": "python",
   "nbconvert_exporter": "python",
   "pygments_lexer": "ipython3",
   "version": "3.10.12"
  }
 },
 "nbformat": 4,
 "nbformat_minor": 5
}
