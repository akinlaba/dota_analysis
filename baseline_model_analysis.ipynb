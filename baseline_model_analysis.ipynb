{
 "cells": [
  {
   "cell_type": "code",
   "execution_count": 68,
   "id": "24b629c5",
   "metadata": {},
   "outputs": [],
   "source": [
    "import numpy as np\n",
    "import pandas as pd\n",
    "import seaborn as sns\n",
    "import matplotlib as mpl\n",
    "import matplotlib.pyplot as plt\n",
    "import matplotlib.ticker as plticker\n",
    "import plotly.express as px\n",
    "from plotly import graph_objects as go\n",
    "from sklearn.model_selection import train_test_split\n",
    "from sklearn.model_selection import KFold\n",
    "from sklearn.neighbors import KNeighborsClassifier\n",
    "from sklearn.model_selection import cross_val_score\n",
    "# from sklearn.preprocessing import StandardScaler, Imputer\n",
    "from sklearn.decomposition import PCA\n",
    "from sklearn.linear_model import SGDClassifier\n",
    "from sklearn.model_selection import GridSearchCV\n",
    "from sklearn.tree import DecisionTreeClassifier\n",
    "from sklearn.metrics import classification_report\n",
    "from sklearn.metrics import accuracy_score\n",
    "from sklearn.svm import SVC\n",
    "from sklearn.metrics import recall_score\n",
    "from sklearn.metrics import confusion_matrix\n",
    "from sklearn.metrics import roc_curve, auc\n",
    "from sklearn.ensemble import RandomForestClassifier, ExtraTreesClassifier, BaggingClassifier, AdaBoostClassifier, GradientBoostingClassifier\n",
    "\n",
    "sns.set_theme(style=\"dark\")\n",
    "plt.style.use('fivethirtyeight')\n",
    "pd.set_option('display.max_columns', None)\n",
    "pd.set_option('display.max_rows', None)\n",
    "pd.set_option('display.float_format', lambda x: '%.2f' % x)"
   ]
  },
  {
   "cell_type": "code",
   "execution_count": 3,
   "id": "ed41321c",
   "metadata": {},
   "outputs": [],
   "source": [
    "data = pd.read_pickle('cleaned_data.pkl')"
   ]
  },
  {
   "cell_type": "code",
   "execution_count": 4,
   "id": "c8e0acf2",
   "metadata": {},
   "outputs": [
    {
     "data": {
      "text/plain": [
       "Index(['my_win', 'match_id', 'barracks_status_dire', 'barracks_status_radiant',\n",
       "       'cluster', 'dire_score', 'duration', 'first_blood_time', 'game_mode',\n",
       "       'lobby_type', 'picks_bans', 'radiant_score', 'start_time',\n",
       "       'tower_status_dire', 'tower_status_radiant', 'players', 'patch',\n",
       "       'region', 'player_slot', 'hero', 'abandons', 'assists', 'backpack_0',\n",
       "       'backpack_1', 'backpack_2', 'deaths', 'denies', 'gold_per_min',\n",
       "       'hero_id', 'isRadiant', 'item_0', 'item_1', 'item_2', 'item_3',\n",
       "       'item_4', 'item_5', 'item_neutral', 'kda', 'kills', 'kills_per_min',\n",
       "       'last_hits', 'leaver_status', 'level', 'net_worth', 'total_gold',\n",
       "       'total_xp', 'xp_per_min', 'id', 'base_health_regen', 'base_mana',\n",
       "       'base_mana_regen', 'base_armor', 'base_attack_min', 'base_attack_max',\n",
       "       'base_str', 'base_agi', 'base_int', 'str_gain', 'agi_gain', 'int_gain',\n",
       "       'attack_range', 'projectile_speed', 'attack_rate', 'base_attack_time',\n",
       "       'attack_point', 'move_speed', 'turn_rate', 'legs', 'day_vision',\n",
       "       'night_vision', 'rad_dir_encoded', 'primary_attr_encoded',\n",
       "       'attack_type_encoded', 'Carry', 'Disabler', 'Durable', 'Escape',\n",
       "       'Initiator', 'Nuker', 'Pusher', 'Support'],\n",
       "      dtype='object')"
      ]
     },
     "execution_count": 4,
     "metadata": {},
     "output_type": "execute_result"
    }
   ],
   "source": [
    "data.columns"
   ]
  },
  {
   "cell_type": "code",
   "execution_count": 73,
   "id": "07708ed0",
   "metadata": {},
   "outputs": [],
   "source": [
    "x = data[data.columns.difference(['my_win', 'match_id', 'cluster', 'picks_bans', 'start_time', 'players', 'hero', 'kda'])]"
   ]
  },
  {
   "cell_type": "code",
   "execution_count": 74,
   "id": "ed8ad916",
   "metadata": {},
   "outputs": [
    {
     "data": {
      "text/html": [
       "<div>\n",
       "<style scoped>\n",
       "    .dataframe tbody tr th:only-of-type {\n",
       "        vertical-align: middle;\n",
       "    }\n",
       "\n",
       "    .dataframe tbody tr th {\n",
       "        vertical-align: top;\n",
       "    }\n",
       "\n",
       "    .dataframe thead th {\n",
       "        text-align: right;\n",
       "    }\n",
       "</style>\n",
       "<table border=\"1\" class=\"dataframe\">\n",
       "  <thead>\n",
       "    <tr style=\"text-align: right;\">\n",
       "      <th></th>\n",
       "      <th>Carry</th>\n",
       "      <th>Disabler</th>\n",
       "      <th>Durable</th>\n",
       "      <th>Escape</th>\n",
       "      <th>Initiator</th>\n",
       "      <th>Nuker</th>\n",
       "      <th>Pusher</th>\n",
       "      <th>Support</th>\n",
       "      <th>abandons</th>\n",
       "      <th>agi_gain</th>\n",
       "      <th>assists</th>\n",
       "      <th>attack_point</th>\n",
       "      <th>attack_range</th>\n",
       "      <th>attack_rate</th>\n",
       "      <th>attack_type_encoded</th>\n",
       "      <th>backpack_0</th>\n",
       "      <th>backpack_1</th>\n",
       "      <th>backpack_2</th>\n",
       "      <th>barracks_status_dire</th>\n",
       "      <th>barracks_status_radiant</th>\n",
       "      <th>base_agi</th>\n",
       "      <th>base_armor</th>\n",
       "      <th>base_attack_max</th>\n",
       "      <th>base_attack_min</th>\n",
       "      <th>base_attack_time</th>\n",
       "      <th>base_health_regen</th>\n",
       "      <th>base_int</th>\n",
       "      <th>base_mana</th>\n",
       "      <th>base_mana_regen</th>\n",
       "      <th>base_str</th>\n",
       "      <th>day_vision</th>\n",
       "      <th>deaths</th>\n",
       "      <th>denies</th>\n",
       "      <th>dire_score</th>\n",
       "      <th>duration</th>\n",
       "      <th>first_blood_time</th>\n",
       "      <th>game_mode</th>\n",
       "      <th>gold_per_min</th>\n",
       "      <th>hero_id</th>\n",
       "      <th>id</th>\n",
       "      <th>int_gain</th>\n",
       "      <th>isRadiant</th>\n",
       "      <th>item_0</th>\n",
       "      <th>item_1</th>\n",
       "      <th>item_2</th>\n",
       "      <th>item_3</th>\n",
       "      <th>item_4</th>\n",
       "      <th>item_5</th>\n",
       "      <th>item_neutral</th>\n",
       "      <th>kills</th>\n",
       "      <th>kills_per_min</th>\n",
       "      <th>last_hits</th>\n",
       "      <th>leaver_status</th>\n",
       "      <th>legs</th>\n",
       "      <th>level</th>\n",
       "      <th>lobby_type</th>\n",
       "      <th>move_speed</th>\n",
       "      <th>net_worth</th>\n",
       "      <th>night_vision</th>\n",
       "      <th>patch</th>\n",
       "      <th>player_slot</th>\n",
       "      <th>primary_attr_encoded</th>\n",
       "      <th>projectile_speed</th>\n",
       "      <th>rad_dir_encoded</th>\n",
       "      <th>radiant_score</th>\n",
       "      <th>region</th>\n",
       "      <th>str_gain</th>\n",
       "      <th>total_gold</th>\n",
       "      <th>total_xp</th>\n",
       "      <th>tower_status_dire</th>\n",
       "      <th>tower_status_radiant</th>\n",
       "      <th>turn_rate</th>\n",
       "      <th>xp_per_min</th>\n",
       "    </tr>\n",
       "  </thead>\n",
       "  <tbody>\n",
       "    <tr>\n",
       "      <th>0</th>\n",
       "      <td>1</td>\n",
       "      <td>1</td>\n",
       "      <td>1</td>\n",
       "      <td>0</td>\n",
       "      <td>0</td>\n",
       "      <td>0</td>\n",
       "      <td>0</td>\n",
       "      <td>0</td>\n",
       "      <td>0</td>\n",
       "      <td>3.40</td>\n",
       "      <td>1</td>\n",
       "      <td>0.50</td>\n",
       "      <td>600</td>\n",
       "      <td>1.70</td>\n",
       "      <td>1</td>\n",
       "      <td>0</td>\n",
       "      <td>0</td>\n",
       "      <td>0</td>\n",
       "      <td>3</td>\n",
       "      <td>63</td>\n",
       "      <td>22</td>\n",
       "      <td>-1.00</td>\n",
       "      <td>32</td>\n",
       "      <td>26</td>\n",
       "      <td>100</td>\n",
       "      <td>0.25</td>\n",
       "      <td>23</td>\n",
       "      <td>75</td>\n",
       "      <td>0.00</td>\n",
       "      <td>0</td>\n",
       "      <td>1800</td>\n",
       "      <td>3</td>\n",
       "      <td>4</td>\n",
       "      <td>9</td>\n",
       "      <td>1621</td>\n",
       "      <td>0</td>\n",
       "      <td>22</td>\n",
       "      <td>372</td>\n",
       "      <td>94</td>\n",
       "      <td>94</td>\n",
       "      <td>3.70</td>\n",
       "      <td>0</td>\n",
       "      <td>88</td>\n",
       "      <td>236</td>\n",
       "      <td>36</td>\n",
       "      <td>63</td>\n",
       "      <td>0</td>\n",
       "      <td>147</td>\n",
       "      <td>288.00</td>\n",
       "      <td>1</td>\n",
       "      <td>0.04</td>\n",
       "      <td>209</td>\n",
       "      <td>0</td>\n",
       "      <td>0</td>\n",
       "      <td>14</td>\n",
       "      <td>7</td>\n",
       "      <td>275</td>\n",
       "      <td>9869.00</td>\n",
       "      <td>800</td>\n",
       "      <td>52</td>\n",
       "      <td>130</td>\n",
       "      <td>0</td>\n",
       "      <td>1200</td>\n",
       "      <td>0</td>\n",
       "      <td>39</td>\n",
       "      <td>1</td>\n",
       "      <td>0.00</td>\n",
       "      <td>10050</td>\n",
       "      <td>11157</td>\n",
       "      <td>6</td>\n",
       "      <td>2047</td>\n",
       "      <td>0.60</td>\n",
       "      <td>413</td>\n",
       "    </tr>\n",
       "    <tr>\n",
       "      <th>1</th>\n",
       "      <td>1</td>\n",
       "      <td>0</td>\n",
       "      <td>0</td>\n",
       "      <td>1</td>\n",
       "      <td>0</td>\n",
       "      <td>1</td>\n",
       "      <td>1</td>\n",
       "      <td>0</td>\n",
       "      <td>0</td>\n",
       "      <td>3.20</td>\n",
       "      <td>5</td>\n",
       "      <td>0.50</td>\n",
       "      <td>225</td>\n",
       "      <td>1.70</td>\n",
       "      <td>0</td>\n",
       "      <td>0</td>\n",
       "      <td>0</td>\n",
       "      <td>0</td>\n",
       "      <td>51</td>\n",
       "      <td>63</td>\n",
       "      <td>26</td>\n",
       "      <td>-1.00</td>\n",
       "      <td>36</td>\n",
       "      <td>26</td>\n",
       "      <td>100</td>\n",
       "      <td>2.00</td>\n",
       "      <td>21</td>\n",
       "      <td>75</td>\n",
       "      <td>0.00</td>\n",
       "      <td>19</td>\n",
       "      <td>1800</td>\n",
       "      <td>5</td>\n",
       "      <td>7</td>\n",
       "      <td>15</td>\n",
       "      <td>1764</td>\n",
       "      <td>17</td>\n",
       "      <td>22</td>\n",
       "      <td>393</td>\n",
       "      <td>12</td>\n",
       "      <td>12</td>\n",
       "      <td>2.00</td>\n",
       "      <td>0</td>\n",
       "      <td>174</td>\n",
       "      <td>75</td>\n",
       "      <td>63</td>\n",
       "      <td>61</td>\n",
       "      <td>36</td>\n",
       "      <td>147</td>\n",
       "      <td>331.00</td>\n",
       "      <td>1</td>\n",
       "      <td>0.03</td>\n",
       "      <td>168</td>\n",
       "      <td>0</td>\n",
       "      <td>2</td>\n",
       "      <td>16</td>\n",
       "      <td>7</td>\n",
       "      <td>290</td>\n",
       "      <td>10968.00</td>\n",
       "      <td>800</td>\n",
       "      <td>52</td>\n",
       "      <td>129</td>\n",
       "      <td>0</td>\n",
       "      <td>900</td>\n",
       "      <td>0</td>\n",
       "      <td>43</td>\n",
       "      <td>1</td>\n",
       "      <td>2.20</td>\n",
       "      <td>11554</td>\n",
       "      <td>14494</td>\n",
       "      <td>388</td>\n",
       "      <td>1975</td>\n",
       "      <td>0.60</td>\n",
       "      <td>493</td>\n",
       "    </tr>\n",
       "    <tr>\n",
       "      <th>2</th>\n",
       "      <td>1</td>\n",
       "      <td>0</td>\n",
       "      <td>1</td>\n",
       "      <td>1</td>\n",
       "      <td>0</td>\n",
       "      <td>0</td>\n",
       "      <td>0</td>\n",
       "      <td>0</td>\n",
       "      <td>0</td>\n",
       "      <td>2.10</td>\n",
       "      <td>10</td>\n",
       "      <td>0.30</td>\n",
       "      <td>150</td>\n",
       "      <td>1.70</td>\n",
       "      <td>0</td>\n",
       "      <td>0</td>\n",
       "      <td>0</td>\n",
       "      <td>4204</td>\n",
       "      <td>3</td>\n",
       "      <td>63</td>\n",
       "      <td>25</td>\n",
       "      <td>1.00</td>\n",
       "      <td>27</td>\n",
       "      <td>23</td>\n",
       "      <td>90</td>\n",
       "      <td>2.00</td>\n",
       "      <td>16</td>\n",
       "      <td>75</td>\n",
       "      <td>0.00</td>\n",
       "      <td>23</td>\n",
       "      <td>1800</td>\n",
       "      <td>4</td>\n",
       "      <td>9</td>\n",
       "      <td>42</td>\n",
       "      <td>3274</td>\n",
       "      <td>24</td>\n",
       "      <td>22</td>\n",
       "      <td>593</td>\n",
       "      <td>67</td>\n",
       "      <td>67</td>\n",
       "      <td>1.70</td>\n",
       "      <td>0</td>\n",
       "      <td>137</td>\n",
       "      <td>208</td>\n",
       "      <td>40</td>\n",
       "      <td>160</td>\n",
       "      <td>63</td>\n",
       "      <td>147</td>\n",
       "      <td>362.00</td>\n",
       "      <td>15</td>\n",
       "      <td>0.27</td>\n",
       "      <td>396</td>\n",
       "      <td>0</td>\n",
       "      <td>0</td>\n",
       "      <td>27</td>\n",
       "      <td>7</td>\n",
       "      <td>290</td>\n",
       "      <td>29983.00</td>\n",
       "      <td>800</td>\n",
       "      <td>52</td>\n",
       "      <td>129</td>\n",
       "      <td>0</td>\n",
       "      <td>900</td>\n",
       "      <td>0</td>\n",
       "      <td>43</td>\n",
       "      <td>1</td>\n",
       "      <td>2.50</td>\n",
       "      <td>32358</td>\n",
       "      <td>44199</td>\n",
       "      <td>4</td>\n",
       "      <td>1572</td>\n",
       "      <td>0.60</td>\n",
       "      <td>810</td>\n",
       "    </tr>\n",
       "    <tr>\n",
       "      <th>3</th>\n",
       "      <td>0</td>\n",
       "      <td>1</td>\n",
       "      <td>0</td>\n",
       "      <td>0</td>\n",
       "      <td>0</td>\n",
       "      <td>1</td>\n",
       "      <td>0</td>\n",
       "      <td>0</td>\n",
       "      <td>0</td>\n",
       "      <td>1.30</td>\n",
       "      <td>2</td>\n",
       "      <td>0.50</td>\n",
       "      <td>700</td>\n",
       "      <td>1.70</td>\n",
       "      <td>1</td>\n",
       "      <td>0</td>\n",
       "      <td>0</td>\n",
       "      <td>0</td>\n",
       "      <td>63</td>\n",
       "      <td>0</td>\n",
       "      <td>14</td>\n",
       "      <td>3.00</td>\n",
       "      <td>14</td>\n",
       "      <td>12</td>\n",
       "      <td>100</td>\n",
       "      <td>0.25</td>\n",
       "      <td>25</td>\n",
       "      <td>75</td>\n",
       "      <td>1.00</td>\n",
       "      <td>19</td>\n",
       "      <td>1800</td>\n",
       "      <td>9</td>\n",
       "      <td>2</td>\n",
       "      <td>38</td>\n",
       "      <td>1739</td>\n",
       "      <td>138</td>\n",
       "      <td>22</td>\n",
       "      <td>205</td>\n",
       "      <td>105</td>\n",
       "      <td>105</td>\n",
       "      <td>3.00</td>\n",
       "      <td>1</td>\n",
       "      <td>0</td>\n",
       "      <td>60</td>\n",
       "      <td>0</td>\n",
       "      <td>0</td>\n",
       "      <td>0</td>\n",
       "      <td>180</td>\n",
       "      <td>675.00</td>\n",
       "      <td>2</td>\n",
       "      <td>0.07</td>\n",
       "      <td>51</td>\n",
       "      <td>0</td>\n",
       "      <td>6</td>\n",
       "      <td>11</td>\n",
       "      <td>7</td>\n",
       "      <td>300</td>\n",
       "      <td>5269.00</td>\n",
       "      <td>800</td>\n",
       "      <td>52</td>\n",
       "      <td>0</td>\n",
       "      <td>1</td>\n",
       "      <td>900</td>\n",
       "      <td>1</td>\n",
       "      <td>10</td>\n",
       "      <td>1</td>\n",
       "      <td>2.50</td>\n",
       "      <td>5941</td>\n",
       "      <td>7361</td>\n",
       "      <td>1983</td>\n",
       "      <td>0</td>\n",
       "      <td>0.60</td>\n",
       "      <td>254</td>\n",
       "    </tr>\n",
       "    <tr>\n",
       "      <th>4</th>\n",
       "      <td>1</td>\n",
       "      <td>0</td>\n",
       "      <td>1</td>\n",
       "      <td>1</td>\n",
       "      <td>0</td>\n",
       "      <td>0</td>\n",
       "      <td>0</td>\n",
       "      <td>0</td>\n",
       "      <td>0</td>\n",
       "      <td>2.10</td>\n",
       "      <td>27</td>\n",
       "      <td>0.30</td>\n",
       "      <td>150</td>\n",
       "      <td>1.70</td>\n",
       "      <td>0</td>\n",
       "      <td>0</td>\n",
       "      <td>0</td>\n",
       "      <td>0</td>\n",
       "      <td>3</td>\n",
       "      <td>15</td>\n",
       "      <td>25</td>\n",
       "      <td>1.00</td>\n",
       "      <td>27</td>\n",
       "      <td>23</td>\n",
       "      <td>90</td>\n",
       "      <td>2.00</td>\n",
       "      <td>16</td>\n",
       "      <td>75</td>\n",
       "      <td>0.00</td>\n",
       "      <td>23</td>\n",
       "      <td>1800</td>\n",
       "      <td>11</td>\n",
       "      <td>11</td>\n",
       "      <td>68</td>\n",
       "      <td>3743</td>\n",
       "      <td>65</td>\n",
       "      <td>22</td>\n",
       "      <td>614</td>\n",
       "      <td>67</td>\n",
       "      <td>67</td>\n",
       "      <td>1.70</td>\n",
       "      <td>0</td>\n",
       "      <td>160</td>\n",
       "      <td>208</td>\n",
       "      <td>137</td>\n",
       "      <td>127</td>\n",
       "      <td>63</td>\n",
       "      <td>147</td>\n",
       "      <td>309.00</td>\n",
       "      <td>11</td>\n",
       "      <td>0.18</td>\n",
       "      <td>388</td>\n",
       "      <td>0</td>\n",
       "      <td>0</td>\n",
       "      <td>29</td>\n",
       "      <td>7</td>\n",
       "      <td>290</td>\n",
       "      <td>30477.00</td>\n",
       "      <td>800</td>\n",
       "      <td>52</td>\n",
       "      <td>129</td>\n",
       "      <td>0</td>\n",
       "      <td>900</td>\n",
       "      <td>0</td>\n",
       "      <td>80</td>\n",
       "      <td>1</td>\n",
       "      <td>2.50</td>\n",
       "      <td>38303</td>\n",
       "      <td>46350</td>\n",
       "      <td>6</td>\n",
       "      <td>32</td>\n",
       "      <td>0.60</td>\n",
       "      <td>743</td>\n",
       "    </tr>\n",
       "  </tbody>\n",
       "</table>\n",
       "</div>"
      ],
      "text/plain": [
       "   Carry  Disabler  Durable  Escape  Initiator  Nuker  Pusher  Support  \\\n",
       "0      1         1        1       0          0      0       0        0   \n",
       "1      1         0        0       1          0      1       1        0   \n",
       "2      1         0        1       1          0      0       0        0   \n",
       "3      0         1        0       0          0      1       0        0   \n",
       "4      1         0        1       1          0      0       0        0   \n",
       "\n",
       "   abandons  agi_gain  assists  attack_point  attack_range  attack_rate  \\\n",
       "0         0      3.40        1          0.50           600         1.70   \n",
       "1         0      3.20        5          0.50           225         1.70   \n",
       "2         0      2.10       10          0.30           150         1.70   \n",
       "3         0      1.30        2          0.50           700         1.70   \n",
       "4         0      2.10       27          0.30           150         1.70   \n",
       "\n",
       "   attack_type_encoded  backpack_0  backpack_1  backpack_2  \\\n",
       "0                    1           0           0           0   \n",
       "1                    0           0           0           0   \n",
       "2                    0           0           0        4204   \n",
       "3                    1           0           0           0   \n",
       "4                    0           0           0           0   \n",
       "\n",
       "   barracks_status_dire  barracks_status_radiant  base_agi  base_armor  \\\n",
       "0                     3                       63        22       -1.00   \n",
       "1                    51                       63        26       -1.00   \n",
       "2                     3                       63        25        1.00   \n",
       "3                    63                        0        14        3.00   \n",
       "4                     3                       15        25        1.00   \n",
       "\n",
       "   base_attack_max  base_attack_min  base_attack_time  base_health_regen  \\\n",
       "0               32               26               100               0.25   \n",
       "1               36               26               100               2.00   \n",
       "2               27               23                90               2.00   \n",
       "3               14               12               100               0.25   \n",
       "4               27               23                90               2.00   \n",
       "\n",
       "   base_int  base_mana  base_mana_regen  base_str  day_vision  deaths  denies  \\\n",
       "0        23         75             0.00         0        1800       3       4   \n",
       "1        21         75             0.00        19        1800       5       7   \n",
       "2        16         75             0.00        23        1800       4       9   \n",
       "3        25         75             1.00        19        1800       9       2   \n",
       "4        16         75             0.00        23        1800      11      11   \n",
       "\n",
       "   dire_score  duration  first_blood_time  game_mode  gold_per_min  hero_id  \\\n",
       "0           9      1621                 0         22           372       94   \n",
       "1          15      1764                17         22           393       12   \n",
       "2          42      3274                24         22           593       67   \n",
       "3          38      1739               138         22           205      105   \n",
       "4          68      3743                65         22           614       67   \n",
       "\n",
       "    id  int_gain  isRadiant  item_0  item_1  item_2  item_3  item_4  item_5  \\\n",
       "0   94      3.70          0      88     236      36      63       0     147   \n",
       "1   12      2.00          0     174      75      63      61      36     147   \n",
       "2   67      1.70          0     137     208      40     160      63     147   \n",
       "3  105      3.00          1       0      60       0       0       0     180   \n",
       "4   67      1.70          0     160     208     137     127      63     147   \n",
       "\n",
       "   item_neutral  kills  kills_per_min  last_hits  leaver_status  legs  level  \\\n",
       "0        288.00      1           0.04        209              0     0     14   \n",
       "1        331.00      1           0.03        168              0     2     16   \n",
       "2        362.00     15           0.27        396              0     0     27   \n",
       "3        675.00      2           0.07         51              0     6     11   \n",
       "4        309.00     11           0.18        388              0     0     29   \n",
       "\n",
       "   lobby_type  move_speed  net_worth  night_vision  patch  player_slot  \\\n",
       "0           7         275    9869.00           800     52          130   \n",
       "1           7         290   10968.00           800     52          129   \n",
       "2           7         290   29983.00           800     52          129   \n",
       "3           7         300    5269.00           800     52            0   \n",
       "4           7         290   30477.00           800     52          129   \n",
       "\n",
       "   primary_attr_encoded  projectile_speed  rad_dir_encoded  radiant_score  \\\n",
       "0                     0              1200                0             39   \n",
       "1                     0               900                0             43   \n",
       "2                     0               900                0             43   \n",
       "3                     1               900                1             10   \n",
       "4                     0               900                0             80   \n",
       "\n",
       "   region  str_gain  total_gold  total_xp  tower_status_dire  \\\n",
       "0       1      0.00       10050     11157                  6   \n",
       "1       1      2.20       11554     14494                388   \n",
       "2       1      2.50       32358     44199                  4   \n",
       "3       1      2.50        5941      7361               1983   \n",
       "4       1      2.50       38303     46350                  6   \n",
       "\n",
       "   tower_status_radiant  turn_rate  xp_per_min  \n",
       "0                  2047       0.60         413  \n",
       "1                  1975       0.60         493  \n",
       "2                  1572       0.60         810  \n",
       "3                     0       0.60         254  \n",
       "4                    32       0.60         743  "
      ]
     },
     "execution_count": 74,
     "metadata": {},
     "output_type": "execute_result"
    }
   ],
   "source": [
    "x.head()"
   ]
  },
  {
   "cell_type": "code",
   "execution_count": 75,
   "id": "96b21443",
   "metadata": {},
   "outputs": [
    {
     "data": {
      "text/plain": [
       "(5382, 73)"
      ]
     },
     "execution_count": 75,
     "metadata": {},
     "output_type": "execute_result"
    }
   ],
   "source": [
    "x.shape"
   ]
  },
  {
   "cell_type": "code",
   "execution_count": 76,
   "id": "56741926",
   "metadata": {},
   "outputs": [],
   "source": [
    "y = data.my_win"
   ]
  },
  {
   "cell_type": "code",
   "execution_count": 77,
   "id": "45504234",
   "metadata": {},
   "outputs": [
    {
     "data": {
      "text/plain": [
       "(5382,)"
      ]
     },
     "execution_count": 77,
     "metadata": {},
     "output_type": "execute_result"
    }
   ],
   "source": [
    "y.shape"
   ]
  },
  {
   "cell_type": "code",
   "execution_count": 78,
   "id": "bc2f6639",
   "metadata": {},
   "outputs": [],
   "source": [
    "ss = StandardScaler()\n",
    "xs = ss.fit_transform(x)"
   ]
  },
  {
   "cell_type": "code",
   "execution_count": 79,
   "id": "c52acfdc",
   "metadata": {},
   "outputs": [],
   "source": [
    "x_train, x_test, y_train, y_test = train_test_split(xs, y, test_size = 0.3, random_state=42)"
   ]
  },
  {
   "cell_type": "code",
   "execution_count": 80,
   "id": "67790c9a",
   "metadata": {},
   "outputs": [],
   "source": [
    "cv = KFold(n_splits=10, shuffle=True, random_state=20)"
   ]
  },
  {
   "cell_type": "code",
   "execution_count": 81,
   "id": "707dc5ff",
   "metadata": {},
   "outputs": [],
   "source": [
    "pca = PCA()\n",
    "pca.fit(x_train)\n",
    "Xpca = pca.transform(x_train)"
   ]
  },
  {
   "cell_type": "code",
   "execution_count": 82,
   "id": "e66743e7",
   "metadata": {},
   "outputs": [],
   "source": [
    "# Plotting principal components explained to determine number of features to use\n",
    "# fig, ax = plt.subplots(figsize=(10,10))\n",
    "# ax.plot(range(1,122), pca.explained_variance_ratio_)\n",
    "# ax.scatter(range(1, 121), pca.explained_variance_ratio_)\n",
    "# ax.set_title('explained variance of components')\n",
    "# ax.set_xlabel('principal component')\n",
    "# ax.set_ylabel('explained variance')"
   ]
  },
  {
   "cell_type": "code",
   "execution_count": 83,
   "id": "06b584be",
   "metadata": {},
   "outputs": [
    {
     "data": {
      "text/html": [
       "<style>#sk-container-id-7 {color: black;background-color: white;}#sk-container-id-7 pre{padding: 0;}#sk-container-id-7 div.sk-toggleable {background-color: white;}#sk-container-id-7 label.sk-toggleable__label {cursor: pointer;display: block;width: 100%;margin-bottom: 0;padding: 0.3em;box-sizing: border-box;text-align: center;}#sk-container-id-7 label.sk-toggleable__label-arrow:before {content: \"▸\";float: left;margin-right: 0.25em;color: #696969;}#sk-container-id-7 label.sk-toggleable__label-arrow:hover:before {color: black;}#sk-container-id-7 div.sk-estimator:hover label.sk-toggleable__label-arrow:before {color: black;}#sk-container-id-7 div.sk-toggleable__content {max-height: 0;max-width: 0;overflow: hidden;text-align: left;background-color: #f0f8ff;}#sk-container-id-7 div.sk-toggleable__content pre {margin: 0.2em;color: black;border-radius: 0.25em;background-color: #f0f8ff;}#sk-container-id-7 input.sk-toggleable__control:checked~div.sk-toggleable__content {max-height: 200px;max-width: 100%;overflow: auto;}#sk-container-id-7 input.sk-toggleable__control:checked~label.sk-toggleable__label-arrow:before {content: \"▾\";}#sk-container-id-7 div.sk-estimator input.sk-toggleable__control:checked~label.sk-toggleable__label {background-color: #d4ebff;}#sk-container-id-7 div.sk-label input.sk-toggleable__control:checked~label.sk-toggleable__label {background-color: #d4ebff;}#sk-container-id-7 input.sk-hidden--visually {border: 0;clip: rect(1px 1px 1px 1px);clip: rect(1px, 1px, 1px, 1px);height: 1px;margin: -1px;overflow: hidden;padding: 0;position: absolute;width: 1px;}#sk-container-id-7 div.sk-estimator {font-family: monospace;background-color: #f0f8ff;border: 1px dotted black;border-radius: 0.25em;box-sizing: border-box;margin-bottom: 0.5em;}#sk-container-id-7 div.sk-estimator:hover {background-color: #d4ebff;}#sk-container-id-7 div.sk-parallel-item::after {content: \"\";width: 100%;border-bottom: 1px solid gray;flex-grow: 1;}#sk-container-id-7 div.sk-label:hover label.sk-toggleable__label {background-color: #d4ebff;}#sk-container-id-7 div.sk-serial::before {content: \"\";position: absolute;border-left: 1px solid gray;box-sizing: border-box;top: 0;bottom: 0;left: 50%;z-index: 0;}#sk-container-id-7 div.sk-serial {display: flex;flex-direction: column;align-items: center;background-color: white;padding-right: 0.2em;padding-left: 0.2em;position: relative;}#sk-container-id-7 div.sk-item {position: relative;z-index: 1;}#sk-container-id-7 div.sk-parallel {display: flex;align-items: stretch;justify-content: center;background-color: white;position: relative;}#sk-container-id-7 div.sk-item::before, #sk-container-id-7 div.sk-parallel-item::before {content: \"\";position: absolute;border-left: 1px solid gray;box-sizing: border-box;top: 0;bottom: 0;left: 50%;z-index: -1;}#sk-container-id-7 div.sk-parallel-item {display: flex;flex-direction: column;z-index: 1;position: relative;background-color: white;}#sk-container-id-7 div.sk-parallel-item:first-child::after {align-self: flex-end;width: 50%;}#sk-container-id-7 div.sk-parallel-item:last-child::after {align-self: flex-start;width: 50%;}#sk-container-id-7 div.sk-parallel-item:only-child::after {width: 0;}#sk-container-id-7 div.sk-dashed-wrapped {border: 1px dashed gray;margin: 0 0.4em 0.5em 0.4em;box-sizing: border-box;padding-bottom: 0.4em;background-color: white;}#sk-container-id-7 div.sk-label label {font-family: monospace;font-weight: bold;display: inline-block;line-height: 1.2em;}#sk-container-id-7 div.sk-label-container {text-align: center;}#sk-container-id-7 div.sk-container {/* jupyter's `normalize.less` sets `[hidden] { display: none; }` but bootstrap.min.css set `[hidden] { display: none !important; }` so we also need the `!important` here to be able to override the default hidden behavior on the sphinx rendered scikit-learn.org. See: https://github.com/scikit-learn/scikit-learn/issues/21755 */display: inline-block !important;position: relative;}#sk-container-id-7 div.sk-text-repr-fallback {display: none;}</style><div id=\"sk-container-id-7\" class=\"sk-top-container\"><div class=\"sk-text-repr-fallback\"><pre>KNeighborsClassifier(n_neighbors=10)</pre><b>In a Jupyter environment, please rerun this cell to show the HTML representation or trust the notebook. <br />On GitHub, the HTML representation is unable to render, please try loading this page with nbviewer.org.</b></div><div class=\"sk-container\" hidden><div class=\"sk-item\"><div class=\"sk-estimator sk-toggleable\"><input class=\"sk-toggleable__control sk-hidden--visually\" id=\"sk-estimator-id-11\" type=\"checkbox\" checked><label for=\"sk-estimator-id-11\" class=\"sk-toggleable__label sk-toggleable__label-arrow\">KNeighborsClassifier</label><div class=\"sk-toggleable__content\"><pre>KNeighborsClassifier(n_neighbors=10)</pre></div></div></div></div></div>"
      ],
      "text/plain": [
       "KNeighborsClassifier(n_neighbors=10)"
      ]
     },
     "execution_count": 83,
     "metadata": {},
     "output_type": "execute_result"
    }
   ],
   "source": [
    "# Training using only standardized features on a KNN classifier\n",
    "knn = KNeighborsClassifier(n_neighbors=10)\n",
    "knn.fit(x_train, y_train)"
   ]
  },
  {
   "cell_type": "code",
   "execution_count": 84,
   "id": "20acae98",
   "metadata": {},
   "outputs": [
    {
     "name": "stdout",
     "output_type": "stream",
     "text": [
      "[0.87533156 0.88328912 0.89920424 0.89124668 0.9071618  0.87267905\n",
      " 0.90185676 0.91223404 0.89893617 0.88829787]\n",
      "0.8930237315875613\n"
     ]
    }
   ],
   "source": [
    "print(cross_val_score(knn, x_train, y_train, cv=cv))\n",
    "print(cross_val_score(knn, x_train, y_train, cv=cv).mean())"
   ]
  },
  {
   "cell_type": "code",
   "execution_count": 85,
   "id": "ff7b0b5f",
   "metadata": {},
   "outputs": [],
   "source": [
    "sgd_cls_params = {\n",
    "    'loss':['log_loss'],\n",
    "    'penalty':['l1','l2'],\n",
    "    'alpha':np.logspace(-5,2,50)\n",
    "}\n",
    "\n",
    "sgd_cls = SGDClassifier()\n",
    "sgd_cls_gs = GridSearchCV(sgd_cls, sgd_cls_params, cv=cv, verbose=1)"
   ]
  },
  {
   "cell_type": "code",
   "execution_count": 86,
   "id": "dde583b2",
   "metadata": {},
   "outputs": [
    {
     "name": "stdout",
     "output_type": "stream",
     "text": [
      "Fitting 10 folds for each of 100 candidates, totalling 1000 fits\n"
     ]
    },
    {
     "data": {
      "text/html": [
       "<style>#sk-container-id-8 {color: black;background-color: white;}#sk-container-id-8 pre{padding: 0;}#sk-container-id-8 div.sk-toggleable {background-color: white;}#sk-container-id-8 label.sk-toggleable__label {cursor: pointer;display: block;width: 100%;margin-bottom: 0;padding: 0.3em;box-sizing: border-box;text-align: center;}#sk-container-id-8 label.sk-toggleable__label-arrow:before {content: \"▸\";float: left;margin-right: 0.25em;color: #696969;}#sk-container-id-8 label.sk-toggleable__label-arrow:hover:before {color: black;}#sk-container-id-8 div.sk-estimator:hover label.sk-toggleable__label-arrow:before {color: black;}#sk-container-id-8 div.sk-toggleable__content {max-height: 0;max-width: 0;overflow: hidden;text-align: left;background-color: #f0f8ff;}#sk-container-id-8 div.sk-toggleable__content pre {margin: 0.2em;color: black;border-radius: 0.25em;background-color: #f0f8ff;}#sk-container-id-8 input.sk-toggleable__control:checked~div.sk-toggleable__content {max-height: 200px;max-width: 100%;overflow: auto;}#sk-container-id-8 input.sk-toggleable__control:checked~label.sk-toggleable__label-arrow:before {content: \"▾\";}#sk-container-id-8 div.sk-estimator input.sk-toggleable__control:checked~label.sk-toggleable__label {background-color: #d4ebff;}#sk-container-id-8 div.sk-label input.sk-toggleable__control:checked~label.sk-toggleable__label {background-color: #d4ebff;}#sk-container-id-8 input.sk-hidden--visually {border: 0;clip: rect(1px 1px 1px 1px);clip: rect(1px, 1px, 1px, 1px);height: 1px;margin: -1px;overflow: hidden;padding: 0;position: absolute;width: 1px;}#sk-container-id-8 div.sk-estimator {font-family: monospace;background-color: #f0f8ff;border: 1px dotted black;border-radius: 0.25em;box-sizing: border-box;margin-bottom: 0.5em;}#sk-container-id-8 div.sk-estimator:hover {background-color: #d4ebff;}#sk-container-id-8 div.sk-parallel-item::after {content: \"\";width: 100%;border-bottom: 1px solid gray;flex-grow: 1;}#sk-container-id-8 div.sk-label:hover label.sk-toggleable__label {background-color: #d4ebff;}#sk-container-id-8 div.sk-serial::before {content: \"\";position: absolute;border-left: 1px solid gray;box-sizing: border-box;top: 0;bottom: 0;left: 50%;z-index: 0;}#sk-container-id-8 div.sk-serial {display: flex;flex-direction: column;align-items: center;background-color: white;padding-right: 0.2em;padding-left: 0.2em;position: relative;}#sk-container-id-8 div.sk-item {position: relative;z-index: 1;}#sk-container-id-8 div.sk-parallel {display: flex;align-items: stretch;justify-content: center;background-color: white;position: relative;}#sk-container-id-8 div.sk-item::before, #sk-container-id-8 div.sk-parallel-item::before {content: \"\";position: absolute;border-left: 1px solid gray;box-sizing: border-box;top: 0;bottom: 0;left: 50%;z-index: -1;}#sk-container-id-8 div.sk-parallel-item {display: flex;flex-direction: column;z-index: 1;position: relative;background-color: white;}#sk-container-id-8 div.sk-parallel-item:first-child::after {align-self: flex-end;width: 50%;}#sk-container-id-8 div.sk-parallel-item:last-child::after {align-self: flex-start;width: 50%;}#sk-container-id-8 div.sk-parallel-item:only-child::after {width: 0;}#sk-container-id-8 div.sk-dashed-wrapped {border: 1px dashed gray;margin: 0 0.4em 0.5em 0.4em;box-sizing: border-box;padding-bottom: 0.4em;background-color: white;}#sk-container-id-8 div.sk-label label {font-family: monospace;font-weight: bold;display: inline-block;line-height: 1.2em;}#sk-container-id-8 div.sk-label-container {text-align: center;}#sk-container-id-8 div.sk-container {/* jupyter's `normalize.less` sets `[hidden] { display: none; }` but bootstrap.min.css set `[hidden] { display: none !important; }` so we also need the `!important` here to be able to override the default hidden behavior on the sphinx rendered scikit-learn.org. See: https://github.com/scikit-learn/scikit-learn/issues/21755 */display: inline-block !important;position: relative;}#sk-container-id-8 div.sk-text-repr-fallback {display: none;}</style><div id=\"sk-container-id-8\" class=\"sk-top-container\"><div class=\"sk-text-repr-fallback\"><pre>GridSearchCV(cv=KFold(n_splits=10, random_state=20, shuffle=True),\n",
       "             estimator=SGDClassifier(),\n",
       "             param_grid={&#x27;alpha&#x27;: array([1.00000000e-05, 1.38949549e-05, 1.93069773e-05, 2.68269580e-05,\n",
       "       3.72759372e-05, 5.17947468e-05, 7.19685673e-05, 1.00000000e-04,\n",
       "       1.38949549e-04, 1.93069773e-04, 2.68269580e-04, 3.72759372e-04,\n",
       "       5.17947468e-04, 7.19685673e-04, 1.00000000e-03, 1.389495...\n",
       "       1.00000000e-01, 1.38949549e-01, 1.93069773e-01, 2.68269580e-01,\n",
       "       3.72759372e-01, 5.17947468e-01, 7.19685673e-01, 1.00000000e+00,\n",
       "       1.38949549e+00, 1.93069773e+00, 2.68269580e+00, 3.72759372e+00,\n",
       "       5.17947468e+00, 7.19685673e+00, 1.00000000e+01, 1.38949549e+01,\n",
       "       1.93069773e+01, 2.68269580e+01, 3.72759372e+01, 5.17947468e+01,\n",
       "       7.19685673e+01, 1.00000000e+02]),\n",
       "                         &#x27;loss&#x27;: [&#x27;log_loss&#x27;], &#x27;penalty&#x27;: [&#x27;l1&#x27;, &#x27;l2&#x27;]},\n",
       "             verbose=1)</pre><b>In a Jupyter environment, please rerun this cell to show the HTML representation or trust the notebook. <br />On GitHub, the HTML representation is unable to render, please try loading this page with nbviewer.org.</b></div><div class=\"sk-container\" hidden><div class=\"sk-item sk-dashed-wrapped\"><div class=\"sk-label-container\"><div class=\"sk-label sk-toggleable\"><input class=\"sk-toggleable__control sk-hidden--visually\" id=\"sk-estimator-id-12\" type=\"checkbox\" ><label for=\"sk-estimator-id-12\" class=\"sk-toggleable__label sk-toggleable__label-arrow\">GridSearchCV</label><div class=\"sk-toggleable__content\"><pre>GridSearchCV(cv=KFold(n_splits=10, random_state=20, shuffle=True),\n",
       "             estimator=SGDClassifier(),\n",
       "             param_grid={&#x27;alpha&#x27;: array([1.00000000e-05, 1.38949549e-05, 1.93069773e-05, 2.68269580e-05,\n",
       "       3.72759372e-05, 5.17947468e-05, 7.19685673e-05, 1.00000000e-04,\n",
       "       1.38949549e-04, 1.93069773e-04, 2.68269580e-04, 3.72759372e-04,\n",
       "       5.17947468e-04, 7.19685673e-04, 1.00000000e-03, 1.389495...\n",
       "       1.00000000e-01, 1.38949549e-01, 1.93069773e-01, 2.68269580e-01,\n",
       "       3.72759372e-01, 5.17947468e-01, 7.19685673e-01, 1.00000000e+00,\n",
       "       1.38949549e+00, 1.93069773e+00, 2.68269580e+00, 3.72759372e+00,\n",
       "       5.17947468e+00, 7.19685673e+00, 1.00000000e+01, 1.38949549e+01,\n",
       "       1.93069773e+01, 2.68269580e+01, 3.72759372e+01, 5.17947468e+01,\n",
       "       7.19685673e+01, 1.00000000e+02]),\n",
       "                         &#x27;loss&#x27;: [&#x27;log_loss&#x27;], &#x27;penalty&#x27;: [&#x27;l1&#x27;, &#x27;l2&#x27;]},\n",
       "             verbose=1)</pre></div></div></div><div class=\"sk-parallel\"><div class=\"sk-parallel-item\"><div class=\"sk-item\"><div class=\"sk-label-container\"><div class=\"sk-label sk-toggleable\"><input class=\"sk-toggleable__control sk-hidden--visually\" id=\"sk-estimator-id-13\" type=\"checkbox\" ><label for=\"sk-estimator-id-13\" class=\"sk-toggleable__label sk-toggleable__label-arrow\">estimator: SGDClassifier</label><div class=\"sk-toggleable__content\"><pre>SGDClassifier()</pre></div></div></div><div class=\"sk-serial\"><div class=\"sk-item\"><div class=\"sk-estimator sk-toggleable\"><input class=\"sk-toggleable__control sk-hidden--visually\" id=\"sk-estimator-id-14\" type=\"checkbox\" ><label for=\"sk-estimator-id-14\" class=\"sk-toggleable__label sk-toggleable__label-arrow\">SGDClassifier</label><div class=\"sk-toggleable__content\"><pre>SGDClassifier()</pre></div></div></div></div></div></div></div></div></div></div>"
      ],
      "text/plain": [
       "GridSearchCV(cv=KFold(n_splits=10, random_state=20, shuffle=True),\n",
       "             estimator=SGDClassifier(),\n",
       "             param_grid={'alpha': array([1.00000000e-05, 1.38949549e-05, 1.93069773e-05, 2.68269580e-05,\n",
       "       3.72759372e-05, 5.17947468e-05, 7.19685673e-05, 1.00000000e-04,\n",
       "       1.38949549e-04, 1.93069773e-04, 2.68269580e-04, 3.72759372e-04,\n",
       "       5.17947468e-04, 7.19685673e-04, 1.00000000e-03, 1.389495...\n",
       "       1.00000000e-01, 1.38949549e-01, 1.93069773e-01, 2.68269580e-01,\n",
       "       3.72759372e-01, 5.17947468e-01, 7.19685673e-01, 1.00000000e+00,\n",
       "       1.38949549e+00, 1.93069773e+00, 2.68269580e+00, 3.72759372e+00,\n",
       "       5.17947468e+00, 7.19685673e+00, 1.00000000e+01, 1.38949549e+01,\n",
       "       1.93069773e+01, 2.68269580e+01, 3.72759372e+01, 5.17947468e+01,\n",
       "       7.19685673e+01, 1.00000000e+02]),\n",
       "                         'loss': ['log_loss'], 'penalty': ['l1', 'l2']},\n",
       "             verbose=1)"
      ]
     },
     "execution_count": 86,
     "metadata": {},
     "output_type": "execute_result"
    }
   ],
   "source": [
    "sgd_cls_gs.fit(x_train, y_train)"
   ]
  },
  {
   "cell_type": "code",
   "execution_count": 87,
   "id": "f5cd5e8a",
   "metadata": {},
   "outputs": [
    {
     "name": "stdout",
     "output_type": "stream",
     "text": [
      "{'alpha': 0.001, 'loss': 'log_loss', 'penalty': 'l1'}\n",
      "0.8863874936508832\n"
     ]
    }
   ],
   "source": [
    "print(sgd_cls_gs.best_params_)\n",
    "print(sgd_cls_gs.best_score_)"
   ]
  },
  {
   "cell_type": "code",
   "execution_count": 88,
   "id": "160e9490",
   "metadata": {},
   "outputs": [
    {
     "data": {
      "text/html": [
       "<style>#sk-container-id-9 {color: black;background-color: white;}#sk-container-id-9 pre{padding: 0;}#sk-container-id-9 div.sk-toggleable {background-color: white;}#sk-container-id-9 label.sk-toggleable__label {cursor: pointer;display: block;width: 100%;margin-bottom: 0;padding: 0.3em;box-sizing: border-box;text-align: center;}#sk-container-id-9 label.sk-toggleable__label-arrow:before {content: \"▸\";float: left;margin-right: 0.25em;color: #696969;}#sk-container-id-9 label.sk-toggleable__label-arrow:hover:before {color: black;}#sk-container-id-9 div.sk-estimator:hover label.sk-toggleable__label-arrow:before {color: black;}#sk-container-id-9 div.sk-toggleable__content {max-height: 0;max-width: 0;overflow: hidden;text-align: left;background-color: #f0f8ff;}#sk-container-id-9 div.sk-toggleable__content pre {margin: 0.2em;color: black;border-radius: 0.25em;background-color: #f0f8ff;}#sk-container-id-9 input.sk-toggleable__control:checked~div.sk-toggleable__content {max-height: 200px;max-width: 100%;overflow: auto;}#sk-container-id-9 input.sk-toggleable__control:checked~label.sk-toggleable__label-arrow:before {content: \"▾\";}#sk-container-id-9 div.sk-estimator input.sk-toggleable__control:checked~label.sk-toggleable__label {background-color: #d4ebff;}#sk-container-id-9 div.sk-label input.sk-toggleable__control:checked~label.sk-toggleable__label {background-color: #d4ebff;}#sk-container-id-9 input.sk-hidden--visually {border: 0;clip: rect(1px 1px 1px 1px);clip: rect(1px, 1px, 1px, 1px);height: 1px;margin: -1px;overflow: hidden;padding: 0;position: absolute;width: 1px;}#sk-container-id-9 div.sk-estimator {font-family: monospace;background-color: #f0f8ff;border: 1px dotted black;border-radius: 0.25em;box-sizing: border-box;margin-bottom: 0.5em;}#sk-container-id-9 div.sk-estimator:hover {background-color: #d4ebff;}#sk-container-id-9 div.sk-parallel-item::after {content: \"\";width: 100%;border-bottom: 1px solid gray;flex-grow: 1;}#sk-container-id-9 div.sk-label:hover label.sk-toggleable__label {background-color: #d4ebff;}#sk-container-id-9 div.sk-serial::before {content: \"\";position: absolute;border-left: 1px solid gray;box-sizing: border-box;top: 0;bottom: 0;left: 50%;z-index: 0;}#sk-container-id-9 div.sk-serial {display: flex;flex-direction: column;align-items: center;background-color: white;padding-right: 0.2em;padding-left: 0.2em;position: relative;}#sk-container-id-9 div.sk-item {position: relative;z-index: 1;}#sk-container-id-9 div.sk-parallel {display: flex;align-items: stretch;justify-content: center;background-color: white;position: relative;}#sk-container-id-9 div.sk-item::before, #sk-container-id-9 div.sk-parallel-item::before {content: \"\";position: absolute;border-left: 1px solid gray;box-sizing: border-box;top: 0;bottom: 0;left: 50%;z-index: -1;}#sk-container-id-9 div.sk-parallel-item {display: flex;flex-direction: column;z-index: 1;position: relative;background-color: white;}#sk-container-id-9 div.sk-parallel-item:first-child::after {align-self: flex-end;width: 50%;}#sk-container-id-9 div.sk-parallel-item:last-child::after {align-self: flex-start;width: 50%;}#sk-container-id-9 div.sk-parallel-item:only-child::after {width: 0;}#sk-container-id-9 div.sk-dashed-wrapped {border: 1px dashed gray;margin: 0 0.4em 0.5em 0.4em;box-sizing: border-box;padding-bottom: 0.4em;background-color: white;}#sk-container-id-9 div.sk-label label {font-family: monospace;font-weight: bold;display: inline-block;line-height: 1.2em;}#sk-container-id-9 div.sk-label-container {text-align: center;}#sk-container-id-9 div.sk-container {/* jupyter's `normalize.less` sets `[hidden] { display: none; }` but bootstrap.min.css set `[hidden] { display: none !important; }` so we also need the `!important` here to be able to override the default hidden behavior on the sphinx rendered scikit-learn.org. See: https://github.com/scikit-learn/scikit-learn/issues/21755 */display: inline-block !important;position: relative;}#sk-container-id-9 div.sk-text-repr-fallback {display: none;}</style><div id=\"sk-container-id-9\" class=\"sk-top-container\"><div class=\"sk-text-repr-fallback\"><pre>DecisionTreeClassifier()</pre><b>In a Jupyter environment, please rerun this cell to show the HTML representation or trust the notebook. <br />On GitHub, the HTML representation is unable to render, please try loading this page with nbviewer.org.</b></div><div class=\"sk-container\" hidden><div class=\"sk-item\"><div class=\"sk-estimator sk-toggleable\"><input class=\"sk-toggleable__control sk-hidden--visually\" id=\"sk-estimator-id-15\" type=\"checkbox\" checked><label for=\"sk-estimator-id-15\" class=\"sk-toggleable__label sk-toggleable__label-arrow\">DecisionTreeClassifier</label><div class=\"sk-toggleable__content\"><pre>DecisionTreeClassifier()</pre></div></div></div></div></div>"
      ],
      "text/plain": [
       "DecisionTreeClassifier()"
      ]
     },
     "execution_count": 88,
     "metadata": {},
     "output_type": "execute_result"
    }
   ],
   "source": [
    "clf = DecisionTreeClassifier(max_depth =None)\n",
    "clf.fit(x_train, y_train)\n"
   ]
  },
  {
   "cell_type": "code",
   "execution_count": 89,
   "id": "8a82612d",
   "metadata": {},
   "outputs": [
    {
     "name": "stdout",
     "output_type": "stream",
     "text": [
      "[0.79310345 0.80636605 0.78779841 0.73740053 0.78514589 0.80636605\n",
      " 0.77718833 0.78191489 0.78723404 0.77925532]\n",
      "0.7817850894520006\n"
     ]
    }
   ],
   "source": [
    "print(cross_val_score(clf, x_train, y_train, cv=cv))\n",
    "print(cross_val_score(clf, x_train, y_train, cv=cv).mean())"
   ]
  },
  {
   "cell_type": "code",
   "execution_count": 90,
   "id": "cb8c9875",
   "metadata": {},
   "outputs": [
    {
     "data": {
      "text/html": [
       "<style>#sk-container-id-10 {color: black;background-color: white;}#sk-container-id-10 pre{padding: 0;}#sk-container-id-10 div.sk-toggleable {background-color: white;}#sk-container-id-10 label.sk-toggleable__label {cursor: pointer;display: block;width: 100%;margin-bottom: 0;padding: 0.3em;box-sizing: border-box;text-align: center;}#sk-container-id-10 label.sk-toggleable__label-arrow:before {content: \"▸\";float: left;margin-right: 0.25em;color: #696969;}#sk-container-id-10 label.sk-toggleable__label-arrow:hover:before {color: black;}#sk-container-id-10 div.sk-estimator:hover label.sk-toggleable__label-arrow:before {color: black;}#sk-container-id-10 div.sk-toggleable__content {max-height: 0;max-width: 0;overflow: hidden;text-align: left;background-color: #f0f8ff;}#sk-container-id-10 div.sk-toggleable__content pre {margin: 0.2em;color: black;border-radius: 0.25em;background-color: #f0f8ff;}#sk-container-id-10 input.sk-toggleable__control:checked~div.sk-toggleable__content {max-height: 200px;max-width: 100%;overflow: auto;}#sk-container-id-10 input.sk-toggleable__control:checked~label.sk-toggleable__label-arrow:before {content: \"▾\";}#sk-container-id-10 div.sk-estimator input.sk-toggleable__control:checked~label.sk-toggleable__label {background-color: #d4ebff;}#sk-container-id-10 div.sk-label input.sk-toggleable__control:checked~label.sk-toggleable__label {background-color: #d4ebff;}#sk-container-id-10 input.sk-hidden--visually {border: 0;clip: rect(1px 1px 1px 1px);clip: rect(1px, 1px, 1px, 1px);height: 1px;margin: -1px;overflow: hidden;padding: 0;position: absolute;width: 1px;}#sk-container-id-10 div.sk-estimator {font-family: monospace;background-color: #f0f8ff;border: 1px dotted black;border-radius: 0.25em;box-sizing: border-box;margin-bottom: 0.5em;}#sk-container-id-10 div.sk-estimator:hover {background-color: #d4ebff;}#sk-container-id-10 div.sk-parallel-item::after {content: \"\";width: 100%;border-bottom: 1px solid gray;flex-grow: 1;}#sk-container-id-10 div.sk-label:hover label.sk-toggleable__label {background-color: #d4ebff;}#sk-container-id-10 div.sk-serial::before {content: \"\";position: absolute;border-left: 1px solid gray;box-sizing: border-box;top: 0;bottom: 0;left: 50%;z-index: 0;}#sk-container-id-10 div.sk-serial {display: flex;flex-direction: column;align-items: center;background-color: white;padding-right: 0.2em;padding-left: 0.2em;position: relative;}#sk-container-id-10 div.sk-item {position: relative;z-index: 1;}#sk-container-id-10 div.sk-parallel {display: flex;align-items: stretch;justify-content: center;background-color: white;position: relative;}#sk-container-id-10 div.sk-item::before, #sk-container-id-10 div.sk-parallel-item::before {content: \"\";position: absolute;border-left: 1px solid gray;box-sizing: border-box;top: 0;bottom: 0;left: 50%;z-index: -1;}#sk-container-id-10 div.sk-parallel-item {display: flex;flex-direction: column;z-index: 1;position: relative;background-color: white;}#sk-container-id-10 div.sk-parallel-item:first-child::after {align-self: flex-end;width: 50%;}#sk-container-id-10 div.sk-parallel-item:last-child::after {align-self: flex-start;width: 50%;}#sk-container-id-10 div.sk-parallel-item:only-child::after {width: 0;}#sk-container-id-10 div.sk-dashed-wrapped {border: 1px dashed gray;margin: 0 0.4em 0.5em 0.4em;box-sizing: border-box;padding-bottom: 0.4em;background-color: white;}#sk-container-id-10 div.sk-label label {font-family: monospace;font-weight: bold;display: inline-block;line-height: 1.2em;}#sk-container-id-10 div.sk-label-container {text-align: center;}#sk-container-id-10 div.sk-container {/* jupyter's `normalize.less` sets `[hidden] { display: none; }` but bootstrap.min.css set `[hidden] { display: none !important; }` so we also need the `!important` here to be able to override the default hidden behavior on the sphinx rendered scikit-learn.org. See: https://github.com/scikit-learn/scikit-learn/issues/21755 */display: inline-block !important;position: relative;}#sk-container-id-10 div.sk-text-repr-fallback {display: none;}</style><div id=\"sk-container-id-10\" class=\"sk-top-container\"><div class=\"sk-text-repr-fallback\"><pre>BaggingClassifier(base_estimator=DecisionTreeClassifier())</pre><b>In a Jupyter environment, please rerun this cell to show the HTML representation or trust the notebook. <br />On GitHub, the HTML representation is unable to render, please try loading this page with nbviewer.org.</b></div><div class=\"sk-container\" hidden><div class=\"sk-item sk-dashed-wrapped\"><div class=\"sk-label-container\"><div class=\"sk-label sk-toggleable\"><input class=\"sk-toggleable__control sk-hidden--visually\" id=\"sk-estimator-id-16\" type=\"checkbox\" ><label for=\"sk-estimator-id-16\" class=\"sk-toggleable__label sk-toggleable__label-arrow\">BaggingClassifier</label><div class=\"sk-toggleable__content\"><pre>BaggingClassifier(base_estimator=DecisionTreeClassifier())</pre></div></div></div><div class=\"sk-parallel\"><div class=\"sk-parallel-item\"><div class=\"sk-item\"><div class=\"sk-label-container\"><div class=\"sk-label sk-toggleable\"><input class=\"sk-toggleable__control sk-hidden--visually\" id=\"sk-estimator-id-17\" type=\"checkbox\" ><label for=\"sk-estimator-id-17\" class=\"sk-toggleable__label sk-toggleable__label-arrow\">base_estimator: DecisionTreeClassifier</label><div class=\"sk-toggleable__content\"><pre>DecisionTreeClassifier()</pre></div></div></div><div class=\"sk-serial\"><div class=\"sk-item\"><div class=\"sk-estimator sk-toggleable\"><input class=\"sk-toggleable__control sk-hidden--visually\" id=\"sk-estimator-id-18\" type=\"checkbox\" ><label for=\"sk-estimator-id-18\" class=\"sk-toggleable__label sk-toggleable__label-arrow\">DecisionTreeClassifier</label><div class=\"sk-toggleable__content\"><pre>DecisionTreeClassifier()</pre></div></div></div></div></div></div></div></div></div></div>"
      ],
      "text/plain": [
       "BaggingClassifier(base_estimator=DecisionTreeClassifier())"
      ]
     },
     "execution_count": 90,
     "metadata": {},
     "output_type": "execute_result"
    }
   ],
   "source": [
    "bdt = BaggingClassifier(DecisionTreeClassifier())\n",
    "bdt.fit(x_train, y_train)"
   ]
  },
  {
   "cell_type": "code",
   "execution_count": 91,
   "id": "d080b08b",
   "metadata": {},
   "outputs": [
    {
     "name": "stdout",
     "output_type": "stream",
     "text": [
      "[0.83554377 0.84615385 0.86206897 0.79840849 0.84615385 0.86206897\n",
      " 0.83023873 0.85904255 0.86968085 0.83510638]\n",
      "0.8524112534567413\n"
     ]
    }
   ],
   "source": [
    "print(cross_val_score(bdt, x_train, y_train, cv=cv))\n",
    "print(cross_val_score(bdt, x_train, y_train, cv=cv).mean())"
   ]
  },
  {
   "cell_type": "code",
   "execution_count": 92,
   "id": "cb133bd3",
   "metadata": {},
   "outputs": [
    {
     "data": {
      "text/html": [
       "<style>#sk-container-id-11 {color: black;background-color: white;}#sk-container-id-11 pre{padding: 0;}#sk-container-id-11 div.sk-toggleable {background-color: white;}#sk-container-id-11 label.sk-toggleable__label {cursor: pointer;display: block;width: 100%;margin-bottom: 0;padding: 0.3em;box-sizing: border-box;text-align: center;}#sk-container-id-11 label.sk-toggleable__label-arrow:before {content: \"▸\";float: left;margin-right: 0.25em;color: #696969;}#sk-container-id-11 label.sk-toggleable__label-arrow:hover:before {color: black;}#sk-container-id-11 div.sk-estimator:hover label.sk-toggleable__label-arrow:before {color: black;}#sk-container-id-11 div.sk-toggleable__content {max-height: 0;max-width: 0;overflow: hidden;text-align: left;background-color: #f0f8ff;}#sk-container-id-11 div.sk-toggleable__content pre {margin: 0.2em;color: black;border-radius: 0.25em;background-color: #f0f8ff;}#sk-container-id-11 input.sk-toggleable__control:checked~div.sk-toggleable__content {max-height: 200px;max-width: 100%;overflow: auto;}#sk-container-id-11 input.sk-toggleable__control:checked~label.sk-toggleable__label-arrow:before {content: \"▾\";}#sk-container-id-11 div.sk-estimator input.sk-toggleable__control:checked~label.sk-toggleable__label {background-color: #d4ebff;}#sk-container-id-11 div.sk-label input.sk-toggleable__control:checked~label.sk-toggleable__label {background-color: #d4ebff;}#sk-container-id-11 input.sk-hidden--visually {border: 0;clip: rect(1px 1px 1px 1px);clip: rect(1px, 1px, 1px, 1px);height: 1px;margin: -1px;overflow: hidden;padding: 0;position: absolute;width: 1px;}#sk-container-id-11 div.sk-estimator {font-family: monospace;background-color: #f0f8ff;border: 1px dotted black;border-radius: 0.25em;box-sizing: border-box;margin-bottom: 0.5em;}#sk-container-id-11 div.sk-estimator:hover {background-color: #d4ebff;}#sk-container-id-11 div.sk-parallel-item::after {content: \"\";width: 100%;border-bottom: 1px solid gray;flex-grow: 1;}#sk-container-id-11 div.sk-label:hover label.sk-toggleable__label {background-color: #d4ebff;}#sk-container-id-11 div.sk-serial::before {content: \"\";position: absolute;border-left: 1px solid gray;box-sizing: border-box;top: 0;bottom: 0;left: 50%;z-index: 0;}#sk-container-id-11 div.sk-serial {display: flex;flex-direction: column;align-items: center;background-color: white;padding-right: 0.2em;padding-left: 0.2em;position: relative;}#sk-container-id-11 div.sk-item {position: relative;z-index: 1;}#sk-container-id-11 div.sk-parallel {display: flex;align-items: stretch;justify-content: center;background-color: white;position: relative;}#sk-container-id-11 div.sk-item::before, #sk-container-id-11 div.sk-parallel-item::before {content: \"\";position: absolute;border-left: 1px solid gray;box-sizing: border-box;top: 0;bottom: 0;left: 50%;z-index: -1;}#sk-container-id-11 div.sk-parallel-item {display: flex;flex-direction: column;z-index: 1;position: relative;background-color: white;}#sk-container-id-11 div.sk-parallel-item:first-child::after {align-self: flex-end;width: 50%;}#sk-container-id-11 div.sk-parallel-item:last-child::after {align-self: flex-start;width: 50%;}#sk-container-id-11 div.sk-parallel-item:only-child::after {width: 0;}#sk-container-id-11 div.sk-dashed-wrapped {border: 1px dashed gray;margin: 0 0.4em 0.5em 0.4em;box-sizing: border-box;padding-bottom: 0.4em;background-color: white;}#sk-container-id-11 div.sk-label label {font-family: monospace;font-weight: bold;display: inline-block;line-height: 1.2em;}#sk-container-id-11 div.sk-label-container {text-align: center;}#sk-container-id-11 div.sk-container {/* jupyter's `normalize.less` sets `[hidden] { display: none; }` but bootstrap.min.css set `[hidden] { display: none !important; }` so we also need the `!important` here to be able to override the default hidden behavior on the sphinx rendered scikit-learn.org. See: https://github.com/scikit-learn/scikit-learn/issues/21755 */display: inline-block !important;position: relative;}#sk-container-id-11 div.sk-text-repr-fallback {display: none;}</style><div id=\"sk-container-id-11\" class=\"sk-top-container\"><div class=\"sk-text-repr-fallback\"><pre>RandomForestClassifier(n_estimators=10, n_jobs=-1)</pre><b>In a Jupyter environment, please rerun this cell to show the HTML representation or trust the notebook. <br />On GitHub, the HTML representation is unable to render, please try loading this page with nbviewer.org.</b></div><div class=\"sk-container\" hidden><div class=\"sk-item\"><div class=\"sk-estimator sk-toggleable\"><input class=\"sk-toggleable__control sk-hidden--visually\" id=\"sk-estimator-id-19\" type=\"checkbox\" checked><label for=\"sk-estimator-id-19\" class=\"sk-toggleable__label sk-toggleable__label-arrow\">RandomForestClassifier</label><div class=\"sk-toggleable__content\"><pre>RandomForestClassifier(n_estimators=10, n_jobs=-1)</pre></div></div></div></div></div>"
      ],
      "text/plain": [
       "RandomForestClassifier(n_estimators=10, n_jobs=-1)"
      ]
     },
     "execution_count": 92,
     "metadata": {},
     "output_type": "execute_result"
    }
   ],
   "source": [
    "rf = RandomForestClassifier(n_estimators=10, n_jobs=-1)\n",
    "rf.fit(x_train, y_train)"
   ]
  },
  {
   "cell_type": "code",
   "execution_count": 93,
   "id": "5edf87a5",
   "metadata": {},
   "outputs": [
    {
     "name": "stdout",
     "output_type": "stream",
     "text": [
      "[0.83289125 0.85676393 0.8806366  0.84615385 0.89124668 0.89124668\n",
      " 0.83819629 0.88829787 0.92021277 0.92021277]\n",
      "0.876833483830916\n"
     ]
    }
   ],
   "source": [
    "print(cross_val_score(rf, x_train, y_train, cv=cv))\n",
    "print(cross_val_score(rf, x_train, y_train, cv=cv).mean())"
   ]
  },
  {
   "cell_type": "code",
   "execution_count": 94,
   "id": "6f6fa9a3",
   "metadata": {},
   "outputs": [
    {
     "data": {
      "text/html": [
       "<style>#sk-container-id-12 {color: black;background-color: white;}#sk-container-id-12 pre{padding: 0;}#sk-container-id-12 div.sk-toggleable {background-color: white;}#sk-container-id-12 label.sk-toggleable__label {cursor: pointer;display: block;width: 100%;margin-bottom: 0;padding: 0.3em;box-sizing: border-box;text-align: center;}#sk-container-id-12 label.sk-toggleable__label-arrow:before {content: \"▸\";float: left;margin-right: 0.25em;color: #696969;}#sk-container-id-12 label.sk-toggleable__label-arrow:hover:before {color: black;}#sk-container-id-12 div.sk-estimator:hover label.sk-toggleable__label-arrow:before {color: black;}#sk-container-id-12 div.sk-toggleable__content {max-height: 0;max-width: 0;overflow: hidden;text-align: left;background-color: #f0f8ff;}#sk-container-id-12 div.sk-toggleable__content pre {margin: 0.2em;color: black;border-radius: 0.25em;background-color: #f0f8ff;}#sk-container-id-12 input.sk-toggleable__control:checked~div.sk-toggleable__content {max-height: 200px;max-width: 100%;overflow: auto;}#sk-container-id-12 input.sk-toggleable__control:checked~label.sk-toggleable__label-arrow:before {content: \"▾\";}#sk-container-id-12 div.sk-estimator input.sk-toggleable__control:checked~label.sk-toggleable__label {background-color: #d4ebff;}#sk-container-id-12 div.sk-label input.sk-toggleable__control:checked~label.sk-toggleable__label {background-color: #d4ebff;}#sk-container-id-12 input.sk-hidden--visually {border: 0;clip: rect(1px 1px 1px 1px);clip: rect(1px, 1px, 1px, 1px);height: 1px;margin: -1px;overflow: hidden;padding: 0;position: absolute;width: 1px;}#sk-container-id-12 div.sk-estimator {font-family: monospace;background-color: #f0f8ff;border: 1px dotted black;border-radius: 0.25em;box-sizing: border-box;margin-bottom: 0.5em;}#sk-container-id-12 div.sk-estimator:hover {background-color: #d4ebff;}#sk-container-id-12 div.sk-parallel-item::after {content: \"\";width: 100%;border-bottom: 1px solid gray;flex-grow: 1;}#sk-container-id-12 div.sk-label:hover label.sk-toggleable__label {background-color: #d4ebff;}#sk-container-id-12 div.sk-serial::before {content: \"\";position: absolute;border-left: 1px solid gray;box-sizing: border-box;top: 0;bottom: 0;left: 50%;z-index: 0;}#sk-container-id-12 div.sk-serial {display: flex;flex-direction: column;align-items: center;background-color: white;padding-right: 0.2em;padding-left: 0.2em;position: relative;}#sk-container-id-12 div.sk-item {position: relative;z-index: 1;}#sk-container-id-12 div.sk-parallel {display: flex;align-items: stretch;justify-content: center;background-color: white;position: relative;}#sk-container-id-12 div.sk-item::before, #sk-container-id-12 div.sk-parallel-item::before {content: \"\";position: absolute;border-left: 1px solid gray;box-sizing: border-box;top: 0;bottom: 0;left: 50%;z-index: -1;}#sk-container-id-12 div.sk-parallel-item {display: flex;flex-direction: column;z-index: 1;position: relative;background-color: white;}#sk-container-id-12 div.sk-parallel-item:first-child::after {align-self: flex-end;width: 50%;}#sk-container-id-12 div.sk-parallel-item:last-child::after {align-self: flex-start;width: 50%;}#sk-container-id-12 div.sk-parallel-item:only-child::after {width: 0;}#sk-container-id-12 div.sk-dashed-wrapped {border: 1px dashed gray;margin: 0 0.4em 0.5em 0.4em;box-sizing: border-box;padding-bottom: 0.4em;background-color: white;}#sk-container-id-12 div.sk-label label {font-family: monospace;font-weight: bold;display: inline-block;line-height: 1.2em;}#sk-container-id-12 div.sk-label-container {text-align: center;}#sk-container-id-12 div.sk-container {/* jupyter's `normalize.less` sets `[hidden] { display: none; }` but bootstrap.min.css set `[hidden] { display: none !important; }` so we also need the `!important` here to be able to override the default hidden behavior on the sphinx rendered scikit-learn.org. See: https://github.com/scikit-learn/scikit-learn/issues/21755 */display: inline-block !important;position: relative;}#sk-container-id-12 div.sk-text-repr-fallback {display: none;}</style><div id=\"sk-container-id-12\" class=\"sk-top-container\"><div class=\"sk-text-repr-fallback\"><pre>ExtraTreesClassifier(n_jobs=-1)</pre><b>In a Jupyter environment, please rerun this cell to show the HTML representation or trust the notebook. <br />On GitHub, the HTML representation is unable to render, please try loading this page with nbviewer.org.</b></div><div class=\"sk-container\" hidden><div class=\"sk-item\"><div class=\"sk-estimator sk-toggleable\"><input class=\"sk-toggleable__control sk-hidden--visually\" id=\"sk-estimator-id-20\" type=\"checkbox\" checked><label for=\"sk-estimator-id-20\" class=\"sk-toggleable__label sk-toggleable__label-arrow\">ExtraTreesClassifier</label><div class=\"sk-toggleable__content\"><pre>ExtraTreesClassifier(n_jobs=-1)</pre></div></div></div></div></div>"
      ],
      "text/plain": [
       "ExtraTreesClassifier(n_jobs=-1)"
      ]
     },
     "execution_count": 94,
     "metadata": {},
     "output_type": "execute_result"
    }
   ],
   "source": [
    "etc = ExtraTreesClassifier(n_jobs=-1)\n",
    "etc.fit(x_train, y_train)"
   ]
  },
  {
   "cell_type": "code",
   "execution_count": 95,
   "id": "239ceff2",
   "metadata": {},
   "outputs": [
    {
     "name": "stdout",
     "output_type": "stream",
     "text": [
      "[0.97877984 0.97877984 0.99204244 0.98408488 1.         0.97612732\n",
      " 0.98938992 0.99202128 0.98404255 0.98670213]\n",
      "0.9883204469778203\n"
     ]
    }
   ],
   "source": [
    "print(cross_val_score(etc, x_train, y_train, cv=cv))\n",
    "print(cross_val_score(etc, x_train, y_train, cv=cv).mean())"
   ]
  },
  {
   "cell_type": "code",
   "execution_count": 96,
   "id": "56d462b4",
   "metadata": {},
   "outputs": [
    {
     "data": {
      "text/plain": [
       "0.8049459397285483"
      ]
     },
     "execution_count": 96,
     "metadata": {},
     "output_type": "execute_result"
    }
   ],
   "source": [
    "cross_val_score(knn, x_test, y_test, cv=cv).mean()"
   ]
  },
  {
   "cell_type": "code",
   "execution_count": 97,
   "id": "b8a86117",
   "metadata": {},
   "outputs": [
    {
     "name": "stdout",
     "output_type": "stream",
     "text": [
      "Fitting 10 folds for each of 100 candidates, totalling 1000 fits\n",
      "Fitting 10 folds for each of 100 candidates, totalling 1000 fits\n",
      "Fitting 10 folds for each of 100 candidates, totalling 1000 fits\n",
      "Fitting 10 folds for each of 100 candidates, totalling 1000 fits\n",
      "Fitting 10 folds for each of 100 candidates, totalling 1000 fits\n",
      "Fitting 10 folds for each of 100 candidates, totalling 1000 fits\n",
      "Fitting 10 folds for each of 100 candidates, totalling 1000 fits\n",
      "Fitting 10 folds for each of 100 candidates, totalling 1000 fits\n",
      "Fitting 10 folds for each of 100 candidates, totalling 1000 fits\n",
      "Fitting 10 folds for each of 100 candidates, totalling 1000 fits\n"
     ]
    },
    {
     "data": {
      "text/plain": [
       "0.8693543439920252"
      ]
     },
     "execution_count": 97,
     "metadata": {},
     "output_type": "execute_result"
    }
   ],
   "source": [
    "cross_val_score(sgd_cls_gs, x_test, y_test, cv=cv).mean()"
   ]
  },
  {
   "cell_type": "code",
   "execution_count": 98,
   "id": "f0062ba5",
   "metadata": {},
   "outputs": [
    {
     "data": {
      "text/plain": [
       "0.759799861973775"
      ]
     },
     "execution_count": 98,
     "metadata": {},
     "output_type": "execute_result"
    }
   ],
   "source": [
    "cross_val_score(clf, x_test, y_test, cv=cv).mean()"
   ]
  },
  {
   "cell_type": "code",
   "execution_count": 99,
   "id": "5a701dad",
   "metadata": {},
   "outputs": [
    {
     "data": {
      "text/plain": [
       "0.8273023541139481"
      ]
     },
     "execution_count": 99,
     "metadata": {},
     "output_type": "execute_result"
    }
   ],
   "source": [
    "cross_val_score(bdt, x_test, y_test, cv=cv).mean()"
   ]
  },
  {
   "cell_type": "code",
   "execution_count": 100,
   "id": "21209ab0",
   "metadata": {},
   "outputs": [
    {
     "data": {
      "text/plain": [
       "0.8514147688060731"
      ]
     },
     "execution_count": 100,
     "metadata": {},
     "output_type": "execute_result"
    }
   ],
   "source": [
    "cross_val_score(rf, x_test, y_test, cv=cv).mean()"
   ]
  },
  {
   "cell_type": "code",
   "execution_count": 101,
   "id": "4922fab8",
   "metadata": {},
   "outputs": [
    {
     "data": {
      "text/plain": [
       "0.9758645809370448"
      ]
     },
     "execution_count": 101,
     "metadata": {},
     "output_type": "execute_result"
    }
   ],
   "source": [
    "cross_val_score(etc, x_test, y_test, cv=cv).mean()"
   ]
  },
  {
   "cell_type": "code",
   "execution_count": 102,
   "id": "51ad3bba",
   "metadata": {},
   "outputs": [],
   "source": [
    "predictC = knn.predict(x_test)\n",
    "probaC = knn.predict_proba(x_test)"
   ]
  },
  {
   "cell_type": "code",
   "execution_count": 103,
   "id": "00082162",
   "metadata": {},
   "outputs": [],
   "source": [
    "predicte = etc.predict(x_test)\n",
    "probae = etc.predict_proba(x_test)"
   ]
  },
  {
   "cell_type": "code",
   "execution_count": 104,
   "id": "18423e69",
   "metadata": {},
   "outputs": [
    {
     "data": {
      "text/plain": [
       "array([[760,  69],\n",
       "       [105, 681]])"
      ]
     },
     "execution_count": 104,
     "metadata": {},
     "output_type": "execute_result"
    }
   ],
   "source": [
    "# TP FN\n",
    "# FP TN\n",
    "confusion_matrix(y_test, predictC)"
   ]
  },
  {
   "cell_type": "code",
   "execution_count": 105,
   "id": "1c70b109",
   "metadata": {},
   "outputs": [
    {
     "data": {
      "text/plain": [
       "array([[822,   7],\n",
       "       [ 15, 771]])"
      ]
     },
     "execution_count": 105,
     "metadata": {},
     "output_type": "execute_result"
    }
   ],
   "source": [
    "# TP FN\n",
    "# FP TN\n",
    "confusion_matrix(y_test, predicte)"
   ]
  },
  {
   "cell_type": "code",
   "execution_count": 106,
   "id": "faa61c37",
   "metadata": {},
   "outputs": [
    {
     "name": "stdout",
     "output_type": "stream",
     "text": [
      "0.8922600619195047\n"
     ]
    }
   ],
   "source": [
    "print(accuracy_score(y_test, predictC))"
   ]
  },
  {
   "cell_type": "code",
   "execution_count": 107,
   "id": "c706a5f3",
   "metadata": {},
   "outputs": [
    {
     "name": "stdout",
     "output_type": "stream",
     "text": [
      "0.8664122137404581\n"
     ]
    }
   ],
   "source": [
    "print(recall_score(y_test, predictC))"
   ]
  },
  {
   "cell_type": "code",
   "execution_count": 108,
   "id": "5dbdb58f",
   "metadata": {},
   "outputs": [
    {
     "name": "stdout",
     "output_type": "stream",
     "text": [
      "              precision    recall  f1-score   support\n",
      "\n",
      "           0       0.88      0.92      0.90       829\n",
      "           1       0.91      0.87      0.89       786\n",
      "\n",
      "    accuracy                           0.89      1615\n",
      "   macro avg       0.89      0.89      0.89      1615\n",
      "weighted avg       0.89      0.89      0.89      1615\n",
      "\n"
     ]
    }
   ],
   "source": [
    "print(classification_report(y_test, predictC))"
   ]
  },
  {
   "cell_type": "code",
   "execution_count": 109,
   "id": "0f8e71ee",
   "metadata": {},
   "outputs": [
    {
     "name": "stdout",
     "output_type": "stream",
     "text": [
      "              precision    recall  f1-score   support\n",
      "\n",
      "           0       0.98      0.99      0.99       829\n",
      "           1       0.99      0.98      0.99       786\n",
      "\n",
      "    accuracy                           0.99      1615\n",
      "   macro avg       0.99      0.99      0.99      1615\n",
      "weighted avg       0.99      0.99      0.99      1615\n",
      "\n"
     ]
    }
   ],
   "source": [
    "print(classification_report(y_test, predicte))"
   ]
  },
  {
   "cell_type": "code",
   "execution_count": 110,
   "id": "8e0e7be5",
   "metadata": {},
   "outputs": [
    {
     "data": {
      "image/png": "[encoded data removed]",
      "text/plain": [
       "<Figure size 576x576 with 1 Axes>"
      ]
     },
     "metadata": {},
     "output_type": "display_data"
    }
   ],
   "source": [
    "fpr, tpr, _ = roc_curve(y_test, probaC[:,1])\n",
    "roc_auc = auc(fpr, tpr)\n",
    "\n",
    "plt.figure(figsize=[8,8])\n",
    "plt.plot(fpr, tpr, label='ROC curve (area = %0.2f)' % roc_auc, linewidth=4)\n",
    "plt.plot([0, 1], [0, 1], 'k--', linewidth=4)\n",
    "plt.xlim([-0.05, 1.0])\n",
    "plt.ylim([-0.05, 1.05])\n",
    "plt.xlabel('False Positive Rate', fontsize=18)\n",
    "plt.ylabel('True Positive Rate', fontsize=18)\n",
    "# plt.title('Receiver operating characteristic for cancer detection', fontsize=18)\n",
    "plt.legend(loc=\"lower right\")\n",
    "plt.show()"
   ]
  },
  {
   "cell_type": "code",
   "execution_count": 111,
   "id": "a706babf",
   "metadata": {},
   "outputs": [
    {
     "data": {
      "image/png": "[encoded data removed]",
      "text/plain": [
       "<Figure size 576x576 with 1 Axes>"
      ]
     },
     "metadata": {},
     "output_type": "display_data"
    }
   ],
   "source": [
    "# Data leakage much \n",
    "\n",
    "fpr, tpr, _ = roc_curve(y_test, probae[:,1])\n",
    "roc_auc = auc(fpr, tpr)\n",
    "\n",
    "plt.figure(figsize=[8,8])\n",
    "plt.plot(fpr, tpr, label='ROC curve (area = %0.2f)' % roc_auc, linewidth=4)\n",
    "plt.plot([0, 1], [0, 1], 'k--', linewidth=4)\n",
    "plt.xlim([-0.05, 1.0])\n",
    "plt.ylim([-0.05, 1.05])\n",
    "plt.xlabel('False Positive Rate', fontsize=18)\n",
    "plt.ylabel('True Positive Rate', fontsize=18)\n",
    "# plt.title('Receiver operating characteristic for cancer detection', fontsize=18)\n",
    "plt.legend(loc=\"lower right\")\n",
    "plt.show()"
   ]
  },
  {
   "cell_type": "code",
   "execution_count": null,
   "id": "733063ca",
   "metadata": {},
   "outputs": [],
   "source": []
  }
 ],
 "metadata": {
  "kernelspec": {
   "display_name": "Python 3 (ipykernel)",
   "language": "python",
   "name": "python3"
  },
  "language_info": {
   "codemirror_mode": {
    "name": "ipython",
    "version": 3
   },
   "file_extension": ".py",
   "mimetype": "text/x-python",
   "name": "python",
   "nbconvert_exporter": "python",
   "pygments_lexer": "ipython3",
   "version": "3.9.12"
  }
 },
 "nbformat": 4,
 "nbformat_minor": 5
}
