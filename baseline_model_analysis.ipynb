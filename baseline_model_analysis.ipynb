{
 "cells": [
  {
   "cell_type": "code",
   "execution_count": 12,
   "id": "24b629c5",
   "metadata": {},
   "outputs": [],
   "source": [
    "import numpy as np\n",
    "import pandas as pd\n",
    "import seaborn as sns\n",
    "import matplotlib as mpl\n",
    "import matplotlib.pyplot as plt\n",
    "import matplotlib.ticker as plticker\n",
    "import plotly.express as px\n",
    "from plotly import graph_objects as go\n",
    "from sklearn.model_selection import train_test_split\n",
    "from sklearn.model_selection import KFold\n",
    "from sklearn.neighbors import KNeighborsClassifier\n",
    "from sklearn.model_selection import cross_val_score\n",
    "from sklearn.preprocessing import StandardScaler\n",
    "from sklearn.decomposition import PCA\n",
    "from sklearn.linear_model import SGDClassifier\n",
    "from sklearn.model_selection import GridSearchCV\n",
    "from sklearn.tree import DecisionTreeClassifier\n",
    "from sklearn.metrics import classification_report\n",
    "from sklearn.metrics import accuracy_score\n",
    "from sklearn.svm import SVC\n",
    "from sklearn.metrics import recall_score\n",
    "from sklearn.metrics import confusion_matrix\n",
    "from sklearn.metrics import roc_curve, auc\n",
    "from sklearn.ensemble import RandomForestClassifier, ExtraTreesClassifier, BaggingClassifier, AdaBoostClassifier, GradientBoostingClassifier\n",
    "\n",
    "sns.set_theme(style=\"dark\")\n",
    "plt.style.use('fivethirtyeight')\n",
    "pd.set_option('display.max_columns', None)\n",
    "pd.set_option('display.max_rows', None)\n",
    "pd.set_option('display.float_format', lambda x: '%.2f' % x)"
   ]
  },
  {
   "cell_type": "code",
   "execution_count": 2,
   "id": "ed41321c",
   "metadata": {},
   "outputs": [],
   "source": [
    "data = pd.read_pickle('cleaned_data.pkl')"
   ]
  },
  {
   "cell_type": "code",
   "execution_count": 3,
   "id": "c8e0acf2",
   "metadata": {},
   "outputs": [
    {
     "data": {
      "text/plain": [
       "Index(['my_win', 'match_id', 'barracks_status_dire', 'barracks_status_radiant',\n",
       "       'cluster', 'dire_score', 'duration', 'first_blood_time', 'game_mode',\n",
       "       'lobby_type', 'picks_bans', 'radiant_score', 'start_time',\n",
       "       'tower_status_dire', 'tower_status_radiant', 'players', 'patch',\n",
       "       'region', 'player_slot', 'hero', 'abandons', 'assists', 'backpack_0',\n",
       "       'backpack_1', 'backpack_2', 'benchmarks.gold_per_min.pct',\n",
       "       'benchmarks.gold_per_min.raw', 'benchmarks.hero_damage_per_min.pct',\n",
       "       'benchmarks.hero_damage_per_min.raw',\n",
       "       'benchmarks.hero_healing_per_min.pct',\n",
       "       'benchmarks.hero_healing_per_min.raw', 'benchmarks.kills_per_min.pct',\n",
       "       'benchmarks.kills_per_min.raw', 'benchmarks.last_hits_per_min.pct',\n",
       "       'benchmarks.last_hits_per_min.raw', 'benchmarks.stuns_per_min.pct',\n",
       "       'benchmarks.stuns_per_min.raw', 'benchmarks.xp_per_min.pct',\n",
       "       'benchmarks.xp_per_min.raw', 'deaths', 'denies', 'gold_per_min',\n",
       "       'hero_id', 'isRadiant', 'item_0', 'item_1', 'item_2', 'item_3',\n",
       "       'item_4', 'item_5', 'item_neutral', 'kda', 'kills', 'kills_per_min',\n",
       "       'last_hits', 'leaver_status', 'level', 'net_worth', 'total_gold',\n",
       "       'total_xp', 'xp_per_min', 'id', 'base_health_regen', 'base_mana',\n",
       "       'base_mana_regen', 'base_armor', 'base_attack_min', 'base_attack_max',\n",
       "       'base_str', 'base_agi', 'base_int', 'str_gain', 'agi_gain', 'int_gain',\n",
       "       'attack_range', 'projectile_speed', 'attack_rate', 'base_attack_time',\n",
       "       'attack_point', 'move_speed', 'turn_rate', 'legs', 'day_vision',\n",
       "       'night_vision', 'rad_dir_encoded', 'primary_attr_encoded',\n",
       "       'attack_type_encoded', 'Carry', 'Disabler', 'Durable', 'Escape',\n",
       "       'Initiator', 'Nuker', 'Pusher', 'Support'],\n",
       "      dtype='object')"
      ]
     },
     "execution_count": 3,
     "metadata": {},
     "output_type": "execute_result"
    }
   ],
   "source": [
    "data.columns"
   ]
  },
  {
   "cell_type": "code",
   "execution_count": 4,
   "id": "07708ed0",
   "metadata": {},
   "outputs": [],
   "source": [
    "x = data[data.columns.difference(['my_win', 'match_id', 'cluster', 'picks_bans', 'start_time', 'players', 'hero', 'kda'])]"
   ]
  },
  {
   "cell_type": "code",
   "execution_count": 5,
   "id": "ed8ad916",
   "metadata": {},
   "outputs": [
    {
     "data": {
      "text/html": [
       "<div>\n",
       "<style scoped>\n",
       "    .dataframe tbody tr th:only-of-type {\n",
       "        vertical-align: middle;\n",
       "    }\n",
       "\n",
       "    .dataframe tbody tr th {\n",
       "        vertical-align: top;\n",
       "    }\n",
       "\n",
       "    .dataframe thead th {\n",
       "        text-align: right;\n",
       "    }\n",
       "</style>\n",
       "<table border=\"1\" class=\"dataframe\">\n",
       "  <thead>\n",
       "    <tr style=\"text-align: right;\">\n",
       "      <th></th>\n",
       "      <th>Carry</th>\n",
       "      <th>Disabler</th>\n",
       "      <th>Durable</th>\n",
       "      <th>Escape</th>\n",
       "      <th>Initiator</th>\n",
       "      <th>Nuker</th>\n",
       "      <th>Pusher</th>\n",
       "      <th>Support</th>\n",
       "      <th>abandons</th>\n",
       "      <th>agi_gain</th>\n",
       "      <th>assists</th>\n",
       "      <th>attack_point</th>\n",
       "      <th>attack_range</th>\n",
       "      <th>attack_rate</th>\n",
       "      <th>attack_type_encoded</th>\n",
       "      <th>backpack_0</th>\n",
       "      <th>backpack_1</th>\n",
       "      <th>backpack_2</th>\n",
       "      <th>barracks_status_dire</th>\n",
       "      <th>barracks_status_radiant</th>\n",
       "      <th>base_agi</th>\n",
       "      <th>base_armor</th>\n",
       "      <th>base_attack_max</th>\n",
       "      <th>base_attack_min</th>\n",
       "      <th>base_attack_time</th>\n",
       "      <th>base_health_regen</th>\n",
       "      <th>base_int</th>\n",
       "      <th>base_mana</th>\n",
       "      <th>base_mana_regen</th>\n",
       "      <th>base_str</th>\n",
       "      <th>benchmarks.gold_per_min.pct</th>\n",
       "      <th>benchmarks.gold_per_min.raw</th>\n",
       "      <th>benchmarks.hero_damage_per_min.pct</th>\n",
       "      <th>benchmarks.hero_damage_per_min.raw</th>\n",
       "      <th>benchmarks.hero_healing_per_min.pct</th>\n",
       "      <th>benchmarks.hero_healing_per_min.raw</th>\n",
       "      <th>benchmarks.kills_per_min.pct</th>\n",
       "      <th>benchmarks.kills_per_min.raw</th>\n",
       "      <th>benchmarks.last_hits_per_min.pct</th>\n",
       "      <th>benchmarks.last_hits_per_min.raw</th>\n",
       "      <th>benchmarks.stuns_per_min.pct</th>\n",
       "      <th>benchmarks.stuns_per_min.raw</th>\n",
       "      <th>benchmarks.xp_per_min.pct</th>\n",
       "      <th>benchmarks.xp_per_min.raw</th>\n",
       "      <th>day_vision</th>\n",
       "      <th>deaths</th>\n",
       "      <th>denies</th>\n",
       "      <th>dire_score</th>\n",
       "      <th>duration</th>\n",
       "      <th>first_blood_time</th>\n",
       "      <th>game_mode</th>\n",
       "      <th>gold_per_min</th>\n",
       "      <th>hero_id</th>\n",
       "      <th>id</th>\n",
       "      <th>int_gain</th>\n",
       "      <th>isRadiant</th>\n",
       "      <th>item_0</th>\n",
       "      <th>item_1</th>\n",
       "      <th>item_2</th>\n",
       "      <th>item_3</th>\n",
       "      <th>item_4</th>\n",
       "      <th>item_5</th>\n",
       "      <th>item_neutral</th>\n",
       "      <th>kills</th>\n",
       "      <th>kills_per_min</th>\n",
       "      <th>last_hits</th>\n",
       "      <th>leaver_status</th>\n",
       "      <th>legs</th>\n",
       "      <th>level</th>\n",
       "      <th>lobby_type</th>\n",
       "      <th>move_speed</th>\n",
       "      <th>net_worth</th>\n",
       "      <th>night_vision</th>\n",
       "      <th>patch</th>\n",
       "      <th>player_slot</th>\n",
       "      <th>primary_attr_encoded</th>\n",
       "      <th>projectile_speed</th>\n",
       "      <th>rad_dir_encoded</th>\n",
       "      <th>radiant_score</th>\n",
       "      <th>region</th>\n",
       "      <th>str_gain</th>\n",
       "      <th>total_gold</th>\n",
       "      <th>total_xp</th>\n",
       "      <th>tower_status_dire</th>\n",
       "      <th>tower_status_radiant</th>\n",
       "      <th>turn_rate</th>\n",
       "      <th>xp_per_min</th>\n",
       "    </tr>\n",
       "  </thead>\n",
       "  <tbody>\n",
       "    <tr>\n",
       "      <th>0</th>\n",
       "      <td>1</td>\n",
       "      <td>1</td>\n",
       "      <td>1</td>\n",
       "      <td>0</td>\n",
       "      <td>0</td>\n",
       "      <td>0</td>\n",
       "      <td>0</td>\n",
       "      <td>0</td>\n",
       "      <td>0.00</td>\n",
       "      <td>3.40</td>\n",
       "      <td>2.00</td>\n",
       "      <td>0.50</td>\n",
       "      <td>600.00</td>\n",
       "      <td>1.70</td>\n",
       "      <td>1</td>\n",
       "      <td>0.00</td>\n",
       "      <td>0.00</td>\n",
       "      <td>0.00</td>\n",
       "      <td>63.00</td>\n",
       "      <td>3.00</td>\n",
       "      <td>22.00</td>\n",
       "      <td>-1.00</td>\n",
       "      <td>32.00</td>\n",
       "      <td>26.00</td>\n",
       "      <td>100.00</td>\n",
       "      <td>0.25</td>\n",
       "      <td>23.00</td>\n",
       "      <td>75.00</td>\n",
       "      <td>0.00</td>\n",
       "      <td>0.00</td>\n",
       "      <td>0.16</td>\n",
       "      <td>490.00</td>\n",
       "      <td>0.31</td>\n",
       "      <td>587.51</td>\n",
       "      <td>0.98</td>\n",
       "      <td>0.00</td>\n",
       "      <td>0.00</td>\n",
       "      <td>0.00</td>\n",
       "      <td>0.15</td>\n",
       "      <td>7.85</td>\n",
       "      <td>0.03</td>\n",
       "      <td>0.00</td>\n",
       "      <td>0.11</td>\n",
       "      <td>577.00</td>\n",
       "      <td>1800.00</td>\n",
       "      <td>2.00</td>\n",
       "      <td>6.00</td>\n",
       "      <td>37.00</td>\n",
       "      <td>2210.00</td>\n",
       "      <td>174.00</td>\n",
       "      <td>22.00</td>\n",
       "      <td>490.00</td>\n",
       "      <td>94.00</td>\n",
       "      <td>94.00</td>\n",
       "      <td>3.70</td>\n",
       "      <td>1</td>\n",
       "      <td>88.00</td>\n",
       "      <td>36.00</td>\n",
       "      <td>160.00</td>\n",
       "      <td>139.00</td>\n",
       "      <td>63.00</td>\n",
       "      <td>147.00</td>\n",
       "      <td>573.00</td>\n",
       "      <td>0.00</td>\n",
       "      <td>0.19</td>\n",
       "      <td>289.00</td>\n",
       "      <td>0.00</td>\n",
       "      <td>0.00</td>\n",
       "      <td>19.00</td>\n",
       "      <td>7.00</td>\n",
       "      <td>275.00</td>\n",
       "      <td>17753.00</td>\n",
       "      <td>800.00</td>\n",
       "      <td>52.00</td>\n",
       "      <td>3.00</td>\n",
       "      <td>0</td>\n",
       "      <td>1200.00</td>\n",
       "      <td>1</td>\n",
       "      <td>12.00</td>\n",
       "      <td>1.00</td>\n",
       "      <td>0.00</td>\n",
       "      <td>18048.00</td>\n",
       "      <td>21252.00</td>\n",
       "      <td>1974.00</td>\n",
       "      <td>6.00</td>\n",
       "      <td>0.60</td>\n",
       "      <td>577.00</td>\n",
       "    </tr>\n",
       "    <tr>\n",
       "      <th>1</th>\n",
       "      <td>1</td>\n",
       "      <td>1</td>\n",
       "      <td>1</td>\n",
       "      <td>0</td>\n",
       "      <td>1</td>\n",
       "      <td>1</td>\n",
       "      <td>0</td>\n",
       "      <td>0</td>\n",
       "      <td>0.00</td>\n",
       "      <td>1.70</td>\n",
       "      <td>12.00</td>\n",
       "      <td>0.46</td>\n",
       "      <td>150.00</td>\n",
       "      <td>1.70</td>\n",
       "      <td>0</td>\n",
       "      <td>0.00</td>\n",
       "      <td>73.00</td>\n",
       "      <td>36.00</td>\n",
       "      <td>0.00</td>\n",
       "      <td>63.00</td>\n",
       "      <td>18.00</td>\n",
       "      <td>0.00</td>\n",
       "      <td>39.00</td>\n",
       "      <td>35.00</td>\n",
       "      <td>100.00</td>\n",
       "      <td>0.25</td>\n",
       "      <td>20.00</td>\n",
       "      <td>75.00</td>\n",
       "      <td>0.00</td>\n",
       "      <td>25.00</td>\n",
       "      <td>0.35</td>\n",
       "      <td>450.00</td>\n",
       "      <td>0.47</td>\n",
       "      <td>609.20</td>\n",
       "      <td>0.35</td>\n",
       "      <td>17.49</td>\n",
       "      <td>0.35</td>\n",
       "      <td>0.12</td>\n",
       "      <td>0.35</td>\n",
       "      <td>4.43</td>\n",
       "      <td>0.01</td>\n",
       "      <td>0.00</td>\n",
       "      <td>0.42</td>\n",
       "      <td>563.00</td>\n",
       "      <td>1800.00</td>\n",
       "      <td>5.00</td>\n",
       "      <td>9.00</td>\n",
       "      <td>24.00</td>\n",
       "      <td>2466.00</td>\n",
       "      <td>4.00</td>\n",
       "      <td>22.00</td>\n",
       "      <td>450.00</td>\n",
       "      <td>104.00</td>\n",
       "      <td>104.00</td>\n",
       "      <td>2.20</td>\n",
       "      <td>0</td>\n",
       "      <td>50.00</td>\n",
       "      <td>127.00</td>\n",
       "      <td>9.00</td>\n",
       "      <td>73.00</td>\n",
       "      <td>249.00</td>\n",
       "      <td>1.00</td>\n",
       "      <td>573.00</td>\n",
       "      <td>5.00</td>\n",
       "      <td>0.12</td>\n",
       "      <td>182.00</td>\n",
       "      <td>0.00</td>\n",
       "      <td>2.00</td>\n",
       "      <td>20.00</td>\n",
       "      <td>7.00</td>\n",
       "      <td>330.00</td>\n",
       "      <td>15285.00</td>\n",
       "      <td>800.00</td>\n",
       "      <td>52.00</td>\n",
       "      <td>130.00</td>\n",
       "      <td>3</td>\n",
       "      <td>900.00</td>\n",
       "      <td>0</td>\n",
       "      <td>32.00</td>\n",
       "      <td>1.00</td>\n",
       "      <td>3.30</td>\n",
       "      <td>18495.00</td>\n",
       "      <td>23139.00</td>\n",
       "      <td>0.00</td>\n",
       "      <td>1974.00</td>\n",
       "      <td>0.60</td>\n",
       "      <td>563.00</td>\n",
       "    </tr>\n",
       "    <tr>\n",
       "      <th>2</th>\n",
       "      <td>0</td>\n",
       "      <td>1</td>\n",
       "      <td>0</td>\n",
       "      <td>0</td>\n",
       "      <td>0</td>\n",
       "      <td>1</td>\n",
       "      <td>0</td>\n",
       "      <td>0</td>\n",
       "      <td>0.00</td>\n",
       "      <td>1.30</td>\n",
       "      <td>20.00</td>\n",
       "      <td>0.50</td>\n",
       "      <td>700.00</td>\n",
       "      <td>1.70</td>\n",
       "      <td>1</td>\n",
       "      <td>0.00</td>\n",
       "      <td>218.00</td>\n",
       "      <td>349.00</td>\n",
       "      <td>63.00</td>\n",
       "      <td>0.00</td>\n",
       "      <td>14.00</td>\n",
       "      <td>3.00</td>\n",
       "      <td>14.00</td>\n",
       "      <td>12.00</td>\n",
       "      <td>100.00</td>\n",
       "      <td>0.25</td>\n",
       "      <td>25.00</td>\n",
       "      <td>75.00</td>\n",
       "      <td>1.00</td>\n",
       "      <td>19.00</td>\n",
       "      <td>0.32</td>\n",
       "      <td>329.00</td>\n",
       "      <td>0.66</td>\n",
       "      <td>669.77</td>\n",
       "      <td>0.55</td>\n",
       "      <td>2.55</td>\n",
       "      <td>0.42</td>\n",
       "      <td>0.10</td>\n",
       "      <td>0.84</td>\n",
       "      <td>3.35</td>\n",
       "      <td>0.00</td>\n",
       "      <td>0.00</td>\n",
       "      <td>0.86</td>\n",
       "      <td>635.00</td>\n",
       "      <td>1800.00</td>\n",
       "      <td>13.00</td>\n",
       "      <td>2.00</td>\n",
       "      <td>55.00</td>\n",
       "      <td>2936.00</td>\n",
       "      <td>12.00</td>\n",
       "      <td>22.00</td>\n",
       "      <td>329.00</td>\n",
       "      <td>105.00</td>\n",
       "      <td>105.00</td>\n",
       "      <td>3.00</td>\n",
       "      <td>1</td>\n",
       "      <td>931.00</td>\n",
       "      <td>102.00</td>\n",
       "      <td>73.00</td>\n",
       "      <td>0.00</td>\n",
       "      <td>232.00</td>\n",
       "      <td>254.00</td>\n",
       "      <td>676.00</td>\n",
       "      <td>5.00</td>\n",
       "      <td>0.10</td>\n",
       "      <td>164.00</td>\n",
       "      <td>0.00</td>\n",
       "      <td>6.00</td>\n",
       "      <td>23.00</td>\n",
       "      <td>7.00</td>\n",
       "      <td>300.00</td>\n",
       "      <td>13819.00</td>\n",
       "      <td>800.00</td>\n",
       "      <td>52.00</td>\n",
       "      <td>2.00</td>\n",
       "      <td>1</td>\n",
       "      <td>900.00</td>\n",
       "      <td>1</td>\n",
       "      <td>47.00</td>\n",
       "      <td>1.00</td>\n",
       "      <td>2.50</td>\n",
       "      <td>16099.00</td>\n",
       "      <td>31072.00</td>\n",
       "      <td>1958.00</td>\n",
       "      <td>0.00</td>\n",
       "      <td>0.60</td>\n",
       "      <td>635.00</td>\n",
       "    </tr>\n",
       "    <tr>\n",
       "      <th>3</th>\n",
       "      <td>0</td>\n",
       "      <td>1</td>\n",
       "      <td>0</td>\n",
       "      <td>0</td>\n",
       "      <td>0</td>\n",
       "      <td>1</td>\n",
       "      <td>0</td>\n",
       "      <td>0</td>\n",
       "      <td>0.00</td>\n",
       "      <td>1.30</td>\n",
       "      <td>15.00</td>\n",
       "      <td>0.50</td>\n",
       "      <td>700.00</td>\n",
       "      <td>1.70</td>\n",
       "      <td>1</td>\n",
       "      <td>0.00</td>\n",
       "      <td>0.00</td>\n",
       "      <td>675.00</td>\n",
       "      <td>59.00</td>\n",
       "      <td>0.00</td>\n",
       "      <td>14.00</td>\n",
       "      <td>3.00</td>\n",
       "      <td>14.00</td>\n",
       "      <td>12.00</td>\n",
       "      <td>100.00</td>\n",
       "      <td>0.25</td>\n",
       "      <td>25.00</td>\n",
       "      <td>75.00</td>\n",
       "      <td>1.00</td>\n",
       "      <td>19.00</td>\n",
       "      <td>0.90</td>\n",
       "      <td>476.00</td>\n",
       "      <td>0.59</td>\n",
       "      <td>627.89</td>\n",
       "      <td>0.54</td>\n",
       "      <td>0.00</td>\n",
       "      <td>0.39</td>\n",
       "      <td>0.10</td>\n",
       "      <td>0.85</td>\n",
       "      <td>3.44</td>\n",
       "      <td>0.00</td>\n",
       "      <td>0.00</td>\n",
       "      <td>0.58</td>\n",
       "      <td>531.00</td>\n",
       "      <td>1800.00</td>\n",
       "      <td>10.00</td>\n",
       "      <td>10.00</td>\n",
       "      <td>36.00</td>\n",
       "      <td>3068.00</td>\n",
       "      <td>48.00</td>\n",
       "      <td>22.00</td>\n",
       "      <td>476.00</td>\n",
       "      <td>105.00</td>\n",
       "      <td>105.00</td>\n",
       "      <td>3.00</td>\n",
       "      <td>0</td>\n",
       "      <td>100.00</td>\n",
       "      <td>48.00</td>\n",
       "      <td>235.00</td>\n",
       "      <td>24.00</td>\n",
       "      <td>232.00</td>\n",
       "      <td>176.00</td>\n",
       "      <td>571.00</td>\n",
       "      <td>5.00</td>\n",
       "      <td>0.10</td>\n",
       "      <td>176.00</td>\n",
       "      <td>0.00</td>\n",
       "      <td>6.00</td>\n",
       "      <td>22.00</td>\n",
       "      <td>7.00</td>\n",
       "      <td>300.00</td>\n",
       "      <td>19788.00</td>\n",
       "      <td>800.00</td>\n",
       "      <td>52.00</td>\n",
       "      <td>128.00</td>\n",
       "      <td>1</td>\n",
       "      <td>900.00</td>\n",
       "      <td>0</td>\n",
       "      <td>29.00</td>\n",
       "      <td>1.00</td>\n",
       "      <td>2.50</td>\n",
       "      <td>24339.00</td>\n",
       "      <td>27151.00</td>\n",
       "      <td>1792.00</td>\n",
       "      <td>0.00</td>\n",
       "      <td>0.60</td>\n",
       "      <td>531.00</td>\n",
       "    </tr>\n",
       "    <tr>\n",
       "      <th>4</th>\n",
       "      <td>1</td>\n",
       "      <td>0</td>\n",
       "      <td>0</td>\n",
       "      <td>1</td>\n",
       "      <td>0</td>\n",
       "      <td>1</td>\n",
       "      <td>1</td>\n",
       "      <td>0</td>\n",
       "      <td>0.00</td>\n",
       "      <td>3.20</td>\n",
       "      <td>10.00</td>\n",
       "      <td>0.50</td>\n",
       "      <td>225.00</td>\n",
       "      <td>1.70</td>\n",
       "      <td>0</td>\n",
       "      <td>0.00</td>\n",
       "      <td>0.00</td>\n",
       "      <td>174.00</td>\n",
       "      <td>51.00</td>\n",
       "      <td>51.00</td>\n",
       "      <td>26.00</td>\n",
       "      <td>-1.00</td>\n",
       "      <td>36.00</td>\n",
       "      <td>26.00</td>\n",
       "      <td>100.00</td>\n",
       "      <td>2.00</td>\n",
       "      <td>21.00</td>\n",
       "      <td>75.00</td>\n",
       "      <td>0.00</td>\n",
       "      <td>19.00</td>\n",
       "      <td>0.64</td>\n",
       "      <td>682.00</td>\n",
       "      <td>0.88</td>\n",
       "      <td>1098.15</td>\n",
       "      <td>0.96</td>\n",
       "      <td>0.00</td>\n",
       "      <td>0.72</td>\n",
       "      <td>0.29</td>\n",
       "      <td>0.28</td>\n",
       "      <td>8.17</td>\n",
       "      <td>0.92</td>\n",
       "      <td>0.00</td>\n",
       "      <td>0.52</td>\n",
       "      <td>758.00</td>\n",
       "      <td>1800.00</td>\n",
       "      <td>5.00</td>\n",
       "      <td>13.00</td>\n",
       "      <td>46.00</td>\n",
       "      <td>3306.00</td>\n",
       "      <td>0.00</td>\n",
       "      <td>22.00</td>\n",
       "      <td>682.00</td>\n",
       "      <td>12.00</td>\n",
       "      <td>12.00</td>\n",
       "      <td>2.00</td>\n",
       "      <td>0</td>\n",
       "      <td>135.00</td>\n",
       "      <td>208.00</td>\n",
       "      <td>160.00</td>\n",
       "      <td>63.00</td>\n",
       "      <td>114.00</td>\n",
       "      <td>147.00</td>\n",
       "      <td>309.00</td>\n",
       "      <td>16.00</td>\n",
       "      <td>0.29</td>\n",
       "      <td>450.00</td>\n",
       "      <td>0.00</td>\n",
       "      <td>2.00</td>\n",
       "      <td>28.00</td>\n",
       "      <td>7.00</td>\n",
       "      <td>290.00</td>\n",
       "      <td>32854.00</td>\n",
       "      <td>800.00</td>\n",
       "      <td>52.00</td>\n",
       "      <td>132.00</td>\n",
       "      <td>0</td>\n",
       "      <td>900.00</td>\n",
       "      <td>0</td>\n",
       "      <td>52.00</td>\n",
       "      <td>1.00</td>\n",
       "      <td>2.20</td>\n",
       "      <td>37578.00</td>\n",
       "      <td>41765.00</td>\n",
       "      <td>260.00</td>\n",
       "      <td>1926.00</td>\n",
       "      <td>0.60</td>\n",
       "      <td>758.00</td>\n",
       "    </tr>\n",
       "  </tbody>\n",
       "</table>\n",
       "</div>"
      ],
      "text/plain": [
       "   Carry  Disabler  Durable  Escape  Initiator  Nuker  Pusher  Support  \\\n",
       "0      1         1        1       0          0      0       0        0   \n",
       "1      1         1        1       0          1      1       0        0   \n",
       "2      0         1        0       0          0      1       0        0   \n",
       "3      0         1        0       0          0      1       0        0   \n",
       "4      1         0        0       1          0      1       1        0   \n",
       "\n",
       "   abandons  agi_gain  assists  attack_point  attack_range  attack_rate  \\\n",
       "0      0.00      3.40     2.00          0.50        600.00         1.70   \n",
       "1      0.00      1.70    12.00          0.46        150.00         1.70   \n",
       "2      0.00      1.30    20.00          0.50        700.00         1.70   \n",
       "3      0.00      1.30    15.00          0.50        700.00         1.70   \n",
       "4      0.00      3.20    10.00          0.50        225.00         1.70   \n",
       "\n",
       "   attack_type_encoded  backpack_0  backpack_1  backpack_2  \\\n",
       "0                    1        0.00        0.00        0.00   \n",
       "1                    0        0.00       73.00       36.00   \n",
       "2                    1        0.00      218.00      349.00   \n",
       "3                    1        0.00        0.00      675.00   \n",
       "4                    0        0.00        0.00      174.00   \n",
       "\n",
       "   barracks_status_dire  barracks_status_radiant  base_agi  base_armor  \\\n",
       "0                 63.00                     3.00     22.00       -1.00   \n",
       "1                  0.00                    63.00     18.00        0.00   \n",
       "2                 63.00                     0.00     14.00        3.00   \n",
       "3                 59.00                     0.00     14.00        3.00   \n",
       "4                 51.00                    51.00     26.00       -1.00   \n",
       "\n",
       "   base_attack_max  base_attack_min  base_attack_time  base_health_regen  \\\n",
       "0            32.00            26.00            100.00               0.25   \n",
       "1            39.00            35.00            100.00               0.25   \n",
       "2            14.00            12.00            100.00               0.25   \n",
       "3            14.00            12.00            100.00               0.25   \n",
       "4            36.00            26.00            100.00               2.00   \n",
       "\n",
       "   base_int  base_mana  base_mana_regen  base_str  \\\n",
       "0     23.00      75.00             0.00      0.00   \n",
       "1     20.00      75.00             0.00     25.00   \n",
       "2     25.00      75.00             1.00     19.00   \n",
       "3     25.00      75.00             1.00     19.00   \n",
       "4     21.00      75.00             0.00     19.00   \n",
       "\n",
       "   benchmarks.gold_per_min.pct  benchmarks.gold_per_min.raw  \\\n",
       "0                         0.16                       490.00   \n",
       "1                         0.35                       450.00   \n",
       "2                         0.32                       329.00   \n",
       "3                         0.90                       476.00   \n",
       "4                         0.64                       682.00   \n",
       "\n",
       "   benchmarks.hero_damage_per_min.pct  benchmarks.hero_damage_per_min.raw  \\\n",
       "0                                0.31                              587.51   \n",
       "1                                0.47                              609.20   \n",
       "2                                0.66                              669.77   \n",
       "3                                0.59                              627.89   \n",
       "4                                0.88                             1098.15   \n",
       "\n",
       "   benchmarks.hero_healing_per_min.pct  benchmarks.hero_healing_per_min.raw  \\\n",
       "0                                 0.98                                 0.00   \n",
       "1                                 0.35                                17.49   \n",
       "2                                 0.55                                 2.55   \n",
       "3                                 0.54                                 0.00   \n",
       "4                                 0.96                                 0.00   \n",
       "\n",
       "   benchmarks.kills_per_min.pct  benchmarks.kills_per_min.raw  \\\n",
       "0                          0.00                          0.00   \n",
       "1                          0.35                          0.12   \n",
       "2                          0.42                          0.10   \n",
       "3                          0.39                          0.10   \n",
       "4                          0.72                          0.29   \n",
       "\n",
       "   benchmarks.last_hits_per_min.pct  benchmarks.last_hits_per_min.raw  \\\n",
       "0                              0.15                              7.85   \n",
       "1                              0.35                              4.43   \n",
       "2                              0.84                              3.35   \n",
       "3                              0.85                              3.44   \n",
       "4                              0.28                              8.17   \n",
       "\n",
       "   benchmarks.stuns_per_min.pct  benchmarks.stuns_per_min.raw  \\\n",
       "0                          0.03                          0.00   \n",
       "1                          0.01                          0.00   \n",
       "2                          0.00                          0.00   \n",
       "3                          0.00                          0.00   \n",
       "4                          0.92                          0.00   \n",
       "\n",
       "   benchmarks.xp_per_min.pct  benchmarks.xp_per_min.raw  day_vision  deaths  \\\n",
       "0                       0.11                     577.00     1800.00    2.00   \n",
       "1                       0.42                     563.00     1800.00    5.00   \n",
       "2                       0.86                     635.00     1800.00   13.00   \n",
       "3                       0.58                     531.00     1800.00   10.00   \n",
       "4                       0.52                     758.00     1800.00    5.00   \n",
       "\n",
       "   denies  dire_score  duration  first_blood_time  game_mode  gold_per_min  \\\n",
       "0    6.00       37.00   2210.00            174.00      22.00        490.00   \n",
       "1    9.00       24.00   2466.00              4.00      22.00        450.00   \n",
       "2    2.00       55.00   2936.00             12.00      22.00        329.00   \n",
       "3   10.00       36.00   3068.00             48.00      22.00        476.00   \n",
       "4   13.00       46.00   3306.00              0.00      22.00        682.00   \n",
       "\n",
       "   hero_id     id  int_gain  isRadiant  item_0  item_1  item_2  item_3  \\\n",
       "0    94.00  94.00      3.70          1   88.00   36.00  160.00  139.00   \n",
       "1   104.00 104.00      2.20          0   50.00  127.00    9.00   73.00   \n",
       "2   105.00 105.00      3.00          1  931.00  102.00   73.00    0.00   \n",
       "3   105.00 105.00      3.00          0  100.00   48.00  235.00   24.00   \n",
       "4    12.00  12.00      2.00          0  135.00  208.00  160.00   63.00   \n",
       "\n",
       "   item_4  item_5  item_neutral  kills  kills_per_min  last_hits  \\\n",
       "0   63.00  147.00        573.00   0.00           0.19     289.00   \n",
       "1  249.00    1.00        573.00   5.00           0.12     182.00   \n",
       "2  232.00  254.00        676.00   5.00           0.10     164.00   \n",
       "3  232.00  176.00        571.00   5.00           0.10     176.00   \n",
       "4  114.00  147.00        309.00  16.00           0.29     450.00   \n",
       "\n",
       "   leaver_status  legs  level  lobby_type  move_speed  net_worth  \\\n",
       "0           0.00  0.00  19.00        7.00      275.00   17753.00   \n",
       "1           0.00  2.00  20.00        7.00      330.00   15285.00   \n",
       "2           0.00  6.00  23.00        7.00      300.00   13819.00   \n",
       "3           0.00  6.00  22.00        7.00      300.00   19788.00   \n",
       "4           0.00  2.00  28.00        7.00      290.00   32854.00   \n",
       "\n",
       "   night_vision  patch  player_slot  primary_attr_encoded  projectile_speed  \\\n",
       "0        800.00  52.00         3.00                     0           1200.00   \n",
       "1        800.00  52.00       130.00                     3            900.00   \n",
       "2        800.00  52.00         2.00                     1            900.00   \n",
       "3        800.00  52.00       128.00                     1            900.00   \n",
       "4        800.00  52.00       132.00                     0            900.00   \n",
       "\n",
       "   rad_dir_encoded  radiant_score  region  str_gain  total_gold  total_xp  \\\n",
       "0                1          12.00    1.00      0.00    18048.00  21252.00   \n",
       "1                0          32.00    1.00      3.30    18495.00  23139.00   \n",
       "2                1          47.00    1.00      2.50    16099.00  31072.00   \n",
       "3                0          29.00    1.00      2.50    24339.00  27151.00   \n",
       "4                0          52.00    1.00      2.20    37578.00  41765.00   \n",
       "\n",
       "   tower_status_dire  tower_status_radiant  turn_rate  xp_per_min  \n",
       "0            1974.00                  6.00       0.60      577.00  \n",
       "1               0.00               1974.00       0.60      563.00  \n",
       "2            1958.00                  0.00       0.60      635.00  \n",
       "3            1792.00                  0.00       0.60      531.00  \n",
       "4             260.00               1926.00       0.60      758.00  "
      ]
     },
     "execution_count": 5,
     "metadata": {},
     "output_type": "execute_result"
    }
   ],
   "source": [
    "x.head()"
   ]
  },
  {
   "cell_type": "code",
   "execution_count": 6,
   "id": "96b21443",
   "metadata": {},
   "outputs": [
    {
     "data": {
      "text/plain": [
       "(5486, 87)"
      ]
     },
     "execution_count": 6,
     "metadata": {},
     "output_type": "execute_result"
    }
   ],
   "source": [
    "x.shape"
   ]
  },
  {
   "cell_type": "code",
   "execution_count": 7,
   "id": "56741926",
   "metadata": {},
   "outputs": [],
   "source": [
    "y = data.my_win"
   ]
  },
  {
   "cell_type": "code",
   "execution_count": 8,
   "id": "45504234",
   "metadata": {},
   "outputs": [
    {
     "data": {
      "text/plain": [
       "(5486,)"
      ]
     },
     "execution_count": 8,
     "metadata": {},
     "output_type": "execute_result"
    }
   ],
   "source": [
    "y.shape"
   ]
  },
  {
   "cell_type": "code",
   "execution_count": 13,
   "id": "bc2f6639",
   "metadata": {},
   "outputs": [],
   "source": [
    "ss = StandardScaler()\n",
    "xs = ss.fit_transform(x)"
   ]
  },
  {
   "cell_type": "code",
   "execution_count": 14,
   "id": "c52acfdc",
   "metadata": {},
   "outputs": [],
   "source": [
    "x_train, x_test, y_train, y_test = train_test_split(xs, y, test_size = 0.3, random_state=42)"
   ]
  },
  {
   "cell_type": "code",
   "execution_count": 15,
   "id": "67790c9a",
   "metadata": {},
   "outputs": [],
   "source": [
    "cv = KFold(n_splits=10, shuffle=True, random_state=20)"
   ]
  },
  {
   "cell_type": "code",
   "execution_count": 16,
   "id": "06b584be",
   "metadata": {},
   "outputs": [
    {
     "data": {
      "text/html": [
       "<style>#sk-container-id-1 {color: black;background-color: white;}#sk-container-id-1 pre{padding: 0;}#sk-container-id-1 div.sk-toggleable {background-color: white;}#sk-container-id-1 label.sk-toggleable__label {cursor: pointer;display: block;width: 100%;margin-bottom: 0;padding: 0.3em;box-sizing: border-box;text-align: center;}#sk-container-id-1 label.sk-toggleable__label-arrow:before {content: \"▸\";float: left;margin-right: 0.25em;color: #696969;}#sk-container-id-1 label.sk-toggleable__label-arrow:hover:before {color: black;}#sk-container-id-1 div.sk-estimator:hover label.sk-toggleable__label-arrow:before {color: black;}#sk-container-id-1 div.sk-toggleable__content {max-height: 0;max-width: 0;overflow: hidden;text-align: left;background-color: #f0f8ff;}#sk-container-id-1 div.sk-toggleable__content pre {margin: 0.2em;color: black;border-radius: 0.25em;background-color: #f0f8ff;}#sk-container-id-1 input.sk-toggleable__control:checked~div.sk-toggleable__content {max-height: 200px;max-width: 100%;overflow: auto;}#sk-container-id-1 input.sk-toggleable__control:checked~label.sk-toggleable__label-arrow:before {content: \"▾\";}#sk-container-id-1 div.sk-estimator input.sk-toggleable__control:checked~label.sk-toggleable__label {background-color: #d4ebff;}#sk-container-id-1 div.sk-label input.sk-toggleable__control:checked~label.sk-toggleable__label {background-color: #d4ebff;}#sk-container-id-1 input.sk-hidden--visually {border: 0;clip: rect(1px 1px 1px 1px);clip: rect(1px, 1px, 1px, 1px);height: 1px;margin: -1px;overflow: hidden;padding: 0;position: absolute;width: 1px;}#sk-container-id-1 div.sk-estimator {font-family: monospace;background-color: #f0f8ff;border: 1px dotted black;border-radius: 0.25em;box-sizing: border-box;margin-bottom: 0.5em;}#sk-container-id-1 div.sk-estimator:hover {background-color: #d4ebff;}#sk-container-id-1 div.sk-parallel-item::after {content: \"\";width: 100%;border-bottom: 1px solid gray;flex-grow: 1;}#sk-container-id-1 div.sk-label:hover label.sk-toggleable__label {background-color: #d4ebff;}#sk-container-id-1 div.sk-serial::before {content: \"\";position: absolute;border-left: 1px solid gray;box-sizing: border-box;top: 0;bottom: 0;left: 50%;z-index: 0;}#sk-container-id-1 div.sk-serial {display: flex;flex-direction: column;align-items: center;background-color: white;padding-right: 0.2em;padding-left: 0.2em;position: relative;}#sk-container-id-1 div.sk-item {position: relative;z-index: 1;}#sk-container-id-1 div.sk-parallel {display: flex;align-items: stretch;justify-content: center;background-color: white;position: relative;}#sk-container-id-1 div.sk-item::before, #sk-container-id-1 div.sk-parallel-item::before {content: \"\";position: absolute;border-left: 1px solid gray;box-sizing: border-box;top: 0;bottom: 0;left: 50%;z-index: -1;}#sk-container-id-1 div.sk-parallel-item {display: flex;flex-direction: column;z-index: 1;position: relative;background-color: white;}#sk-container-id-1 div.sk-parallel-item:first-child::after {align-self: flex-end;width: 50%;}#sk-container-id-1 div.sk-parallel-item:last-child::after {align-self: flex-start;width: 50%;}#sk-container-id-1 div.sk-parallel-item:only-child::after {width: 0;}#sk-container-id-1 div.sk-dashed-wrapped {border: 1px dashed gray;margin: 0 0.4em 0.5em 0.4em;box-sizing: border-box;padding-bottom: 0.4em;background-color: white;}#sk-container-id-1 div.sk-label label {font-family: monospace;font-weight: bold;display: inline-block;line-height: 1.2em;}#sk-container-id-1 div.sk-label-container {text-align: center;}#sk-container-id-1 div.sk-container {/* jupyter's `normalize.less` sets `[hidden] { display: none; }` but bootstrap.min.css set `[hidden] { display: none !important; }` so we also need the `!important` here to be able to override the default hidden behavior on the sphinx rendered scikit-learn.org. See: https://github.com/scikit-learn/scikit-learn/issues/21755 */display: inline-block !important;position: relative;}#sk-container-id-1 div.sk-text-repr-fallback {display: none;}</style><div id=\"sk-container-id-1\" class=\"sk-top-container\"><div class=\"sk-text-repr-fallback\"><pre>KNeighborsClassifier(n_neighbors=10)</pre><b>In a Jupyter environment, please rerun this cell to show the HTML representation or trust the notebook. <br />On GitHub, the HTML representation is unable to render, please try loading this page with nbviewer.org.</b></div><div class=\"sk-container\" hidden><div class=\"sk-item\"><div class=\"sk-estimator sk-toggleable\"><input class=\"sk-toggleable__control sk-hidden--visually\" id=\"sk-estimator-id-1\" type=\"checkbox\" checked><label for=\"sk-estimator-id-1\" class=\"sk-toggleable__label sk-toggleable__label-arrow\">KNeighborsClassifier</label><div class=\"sk-toggleable__content\"><pre>KNeighborsClassifier(n_neighbors=10)</pre></div></div></div></div></div>"
      ],
      "text/plain": [
       "KNeighborsClassifier(n_neighbors=10)"
      ]
     },
     "execution_count": 16,
     "metadata": {},
     "output_type": "execute_result"
    }
   ],
   "source": [
    "# Training using only standardized features on a KNN classifier\n",
    "knn = KNeighborsClassifier(n_neighbors=10)\n",
    "knn.fit(x_train, y_train)"
   ]
  },
  {
   "cell_type": "code",
   "execution_count": 17,
   "id": "20acae98",
   "metadata": {},
   "outputs": [
    {
     "name": "stdout",
     "output_type": "stream",
     "text": [
      "[0.76302083 0.75260417 0.75       0.77864583 0.77864583 0.73958333\n",
      " 0.7578125  0.7734375  0.73958333 0.76041667]\n",
      "0.759375\n"
     ]
    }
   ],
   "source": [
    "print(cross_val_score(knn, x_train, y_train, cv=cv))\n",
    "print(cross_val_score(knn, x_train, y_train, cv=cv).mean())"
   ]
  },
  {
   "cell_type": "code",
   "execution_count": 18,
   "id": "ff7b0b5f",
   "metadata": {},
   "outputs": [],
   "source": [
    "sgd_cls_params = {\n",
    "    'loss':['log_loss'],\n",
    "    'penalty':['l1','l2'],\n",
    "    'alpha':np.logspace(-5,2,50)\n",
    "}\n",
    "\n",
    "sgd_cls = SGDClassifier()\n",
    "sgd_cls_gs = GridSearchCV(sgd_cls, sgd_cls_params, cv=cv, verbose=1)"
   ]
  },
  {
   "cell_type": "code",
   "execution_count": 19,
   "id": "dde583b2",
   "metadata": {},
   "outputs": [
    {
     "name": "stdout",
     "output_type": "stream",
     "text": [
      "Fitting 10 folds for each of 100 candidates, totalling 1000 fits\n"
     ]
    },
    {
     "data": {
      "text/html": [
       "<style>#sk-container-id-2 {color: black;background-color: white;}#sk-container-id-2 pre{padding: 0;}#sk-container-id-2 div.sk-toggleable {background-color: white;}#sk-container-id-2 label.sk-toggleable__label {cursor: pointer;display: block;width: 100%;margin-bottom: 0;padding: 0.3em;box-sizing: border-box;text-align: center;}#sk-container-id-2 label.sk-toggleable__label-arrow:before {content: \"▸\";float: left;margin-right: 0.25em;color: #696969;}#sk-container-id-2 label.sk-toggleable__label-arrow:hover:before {color: black;}#sk-container-id-2 div.sk-estimator:hover label.sk-toggleable__label-arrow:before {color: black;}#sk-container-id-2 div.sk-toggleable__content {max-height: 0;max-width: 0;overflow: hidden;text-align: left;background-color: #f0f8ff;}#sk-container-id-2 div.sk-toggleable__content pre {margin: 0.2em;color: black;border-radius: 0.25em;background-color: #f0f8ff;}#sk-container-id-2 input.sk-toggleable__control:checked~div.sk-toggleable__content {max-height: 200px;max-width: 100%;overflow: auto;}#sk-container-id-2 input.sk-toggleable__control:checked~label.sk-toggleable__label-arrow:before {content: \"▾\";}#sk-container-id-2 div.sk-estimator input.sk-toggleable__control:checked~label.sk-toggleable__label {background-color: #d4ebff;}#sk-container-id-2 div.sk-label input.sk-toggleable__control:checked~label.sk-toggleable__label {background-color: #d4ebff;}#sk-container-id-2 input.sk-hidden--visually {border: 0;clip: rect(1px 1px 1px 1px);clip: rect(1px, 1px, 1px, 1px);height: 1px;margin: -1px;overflow: hidden;padding: 0;position: absolute;width: 1px;}#sk-container-id-2 div.sk-estimator {font-family: monospace;background-color: #f0f8ff;border: 1px dotted black;border-radius: 0.25em;box-sizing: border-box;margin-bottom: 0.5em;}#sk-container-id-2 div.sk-estimator:hover {background-color: #d4ebff;}#sk-container-id-2 div.sk-parallel-item::after {content: \"\";width: 100%;border-bottom: 1px solid gray;flex-grow: 1;}#sk-container-id-2 div.sk-label:hover label.sk-toggleable__label {background-color: #d4ebff;}#sk-container-id-2 div.sk-serial::before {content: \"\";position: absolute;border-left: 1px solid gray;box-sizing: border-box;top: 0;bottom: 0;left: 50%;z-index: 0;}#sk-container-id-2 div.sk-serial {display: flex;flex-direction: column;align-items: center;background-color: white;padding-right: 0.2em;padding-left: 0.2em;position: relative;}#sk-container-id-2 div.sk-item {position: relative;z-index: 1;}#sk-container-id-2 div.sk-parallel {display: flex;align-items: stretch;justify-content: center;background-color: white;position: relative;}#sk-container-id-2 div.sk-item::before, #sk-container-id-2 div.sk-parallel-item::before {content: \"\";position: absolute;border-left: 1px solid gray;box-sizing: border-box;top: 0;bottom: 0;left: 50%;z-index: -1;}#sk-container-id-2 div.sk-parallel-item {display: flex;flex-direction: column;z-index: 1;position: relative;background-color: white;}#sk-container-id-2 div.sk-parallel-item:first-child::after {align-self: flex-end;width: 50%;}#sk-container-id-2 div.sk-parallel-item:last-child::after {align-self: flex-start;width: 50%;}#sk-container-id-2 div.sk-parallel-item:only-child::after {width: 0;}#sk-container-id-2 div.sk-dashed-wrapped {border: 1px dashed gray;margin: 0 0.4em 0.5em 0.4em;box-sizing: border-box;padding-bottom: 0.4em;background-color: white;}#sk-container-id-2 div.sk-label label {font-family: monospace;font-weight: bold;display: inline-block;line-height: 1.2em;}#sk-container-id-2 div.sk-label-container {text-align: center;}#sk-container-id-2 div.sk-container {/* jupyter's `normalize.less` sets `[hidden] { display: none; }` but bootstrap.min.css set `[hidden] { display: none !important; }` so we also need the `!important` here to be able to override the default hidden behavior on the sphinx rendered scikit-learn.org. See: https://github.com/scikit-learn/scikit-learn/issues/21755 */display: inline-block !important;position: relative;}#sk-container-id-2 div.sk-text-repr-fallback {display: none;}</style><div id=\"sk-container-id-2\" class=\"sk-top-container\"><div class=\"sk-text-repr-fallback\"><pre>GridSearchCV(cv=KFold(n_splits=10, random_state=20, shuffle=True),\n",
       "             estimator=SGDClassifier(),\n",
       "             param_grid={&#x27;alpha&#x27;: array([1.00000000e-05, 1.38949549e-05, 1.93069773e-05, 2.68269580e-05,\n",
       "       3.72759372e-05, 5.17947468e-05, 7.19685673e-05, 1.00000000e-04,\n",
       "       1.38949549e-04, 1.93069773e-04, 2.68269580e-04, 3.72759372e-04,\n",
       "       5.17947468e-04, 7.19685673e-04, 1.00000000e-03, 1.389495...\n",
       "       1.00000000e-01, 1.38949549e-01, 1.93069773e-01, 2.68269580e-01,\n",
       "       3.72759372e-01, 5.17947468e-01, 7.19685673e-01, 1.00000000e+00,\n",
       "       1.38949549e+00, 1.93069773e+00, 2.68269580e+00, 3.72759372e+00,\n",
       "       5.17947468e+00, 7.19685673e+00, 1.00000000e+01, 1.38949549e+01,\n",
       "       1.93069773e+01, 2.68269580e+01, 3.72759372e+01, 5.17947468e+01,\n",
       "       7.19685673e+01, 1.00000000e+02]),\n",
       "                         &#x27;loss&#x27;: [&#x27;log_loss&#x27;], &#x27;penalty&#x27;: [&#x27;l1&#x27;, &#x27;l2&#x27;]},\n",
       "             verbose=1)</pre><b>In a Jupyter environment, please rerun this cell to show the HTML representation or trust the notebook. <br />On GitHub, the HTML representation is unable to render, please try loading this page with nbviewer.org.</b></div><div class=\"sk-container\" hidden><div class=\"sk-item sk-dashed-wrapped\"><div class=\"sk-label-container\"><div class=\"sk-label sk-toggleable\"><input class=\"sk-toggleable__control sk-hidden--visually\" id=\"sk-estimator-id-2\" type=\"checkbox\" ><label for=\"sk-estimator-id-2\" class=\"sk-toggleable__label sk-toggleable__label-arrow\">GridSearchCV</label><div class=\"sk-toggleable__content\"><pre>GridSearchCV(cv=KFold(n_splits=10, random_state=20, shuffle=True),\n",
       "             estimator=SGDClassifier(),\n",
       "             param_grid={&#x27;alpha&#x27;: array([1.00000000e-05, 1.38949549e-05, 1.93069773e-05, 2.68269580e-05,\n",
       "       3.72759372e-05, 5.17947468e-05, 7.19685673e-05, 1.00000000e-04,\n",
       "       1.38949549e-04, 1.93069773e-04, 2.68269580e-04, 3.72759372e-04,\n",
       "       5.17947468e-04, 7.19685673e-04, 1.00000000e-03, 1.389495...\n",
       "       1.00000000e-01, 1.38949549e-01, 1.93069773e-01, 2.68269580e-01,\n",
       "       3.72759372e-01, 5.17947468e-01, 7.19685673e-01, 1.00000000e+00,\n",
       "       1.38949549e+00, 1.93069773e+00, 2.68269580e+00, 3.72759372e+00,\n",
       "       5.17947468e+00, 7.19685673e+00, 1.00000000e+01, 1.38949549e+01,\n",
       "       1.93069773e+01, 2.68269580e+01, 3.72759372e+01, 5.17947468e+01,\n",
       "       7.19685673e+01, 1.00000000e+02]),\n",
       "                         &#x27;loss&#x27;: [&#x27;log_loss&#x27;], &#x27;penalty&#x27;: [&#x27;l1&#x27;, &#x27;l2&#x27;]},\n",
       "             verbose=1)</pre></div></div></div><div class=\"sk-parallel\"><div class=\"sk-parallel-item\"><div class=\"sk-item\"><div class=\"sk-label-container\"><div class=\"sk-label sk-toggleable\"><input class=\"sk-toggleable__control sk-hidden--visually\" id=\"sk-estimator-id-3\" type=\"checkbox\" ><label for=\"sk-estimator-id-3\" class=\"sk-toggleable__label sk-toggleable__label-arrow\">estimator: SGDClassifier</label><div class=\"sk-toggleable__content\"><pre>SGDClassifier()</pre></div></div></div><div class=\"sk-serial\"><div class=\"sk-item\"><div class=\"sk-estimator sk-toggleable\"><input class=\"sk-toggleable__control sk-hidden--visually\" id=\"sk-estimator-id-4\" type=\"checkbox\" ><label for=\"sk-estimator-id-4\" class=\"sk-toggleable__label sk-toggleable__label-arrow\">SGDClassifier</label><div class=\"sk-toggleable__content\"><pre>SGDClassifier()</pre></div></div></div></div></div></div></div></div></div></div>"
      ],
      "text/plain": [
       "GridSearchCV(cv=KFold(n_splits=10, random_state=20, shuffle=True),\n",
       "             estimator=SGDClassifier(),\n",
       "             param_grid={'alpha': array([1.00000000e-05, 1.38949549e-05, 1.93069773e-05, 2.68269580e-05,\n",
       "       3.72759372e-05, 5.17947468e-05, 7.19685673e-05, 1.00000000e-04,\n",
       "       1.38949549e-04, 1.93069773e-04, 2.68269580e-04, 3.72759372e-04,\n",
       "       5.17947468e-04, 7.19685673e-04, 1.00000000e-03, 1.389495...\n",
       "       1.00000000e-01, 1.38949549e-01, 1.93069773e-01, 2.68269580e-01,\n",
       "       3.72759372e-01, 5.17947468e-01, 7.19685673e-01, 1.00000000e+00,\n",
       "       1.38949549e+00, 1.93069773e+00, 2.68269580e+00, 3.72759372e+00,\n",
       "       5.17947468e+00, 7.19685673e+00, 1.00000000e+01, 1.38949549e+01,\n",
       "       1.93069773e+01, 2.68269580e+01, 3.72759372e+01, 5.17947468e+01,\n",
       "       7.19685673e+01, 1.00000000e+02]),\n",
       "                         'loss': ['log_loss'], 'penalty': ['l1', 'l2']},\n",
       "             verbose=1)"
      ]
     },
     "execution_count": 19,
     "metadata": {},
     "output_type": "execute_result"
    }
   ],
   "source": [
    "sgd_cls_gs.fit(x_train, y_train)"
   ]
  },
  {
   "cell_type": "code",
   "execution_count": 20,
   "id": "f5cd5e8a",
   "metadata": {},
   "outputs": [
    {
     "name": "stdout",
     "output_type": "stream",
     "text": [
      "{'alpha': 0.0013894954943731374, 'loss': 'log_loss', 'penalty': 'l2'}\n",
      "0.5817708333333333\n"
     ]
    }
   ],
   "source": [
    "print(sgd_cls_gs.best_params_)\n",
    "print(sgd_cls_gs.best_score_)"
   ]
  },
  {
   "cell_type": "code",
   "execution_count": 21,
   "id": "160e9490",
   "metadata": {},
   "outputs": [
    {
     "data": {
      "text/html": [
       "<style>#sk-container-id-3 {color: black;background-color: white;}#sk-container-id-3 pre{padding: 0;}#sk-container-id-3 div.sk-toggleable {background-color: white;}#sk-container-id-3 label.sk-toggleable__label {cursor: pointer;display: block;width: 100%;margin-bottom: 0;padding: 0.3em;box-sizing: border-box;text-align: center;}#sk-container-id-3 label.sk-toggleable__label-arrow:before {content: \"▸\";float: left;margin-right: 0.25em;color: #696969;}#sk-container-id-3 label.sk-toggleable__label-arrow:hover:before {color: black;}#sk-container-id-3 div.sk-estimator:hover label.sk-toggleable__label-arrow:before {color: black;}#sk-container-id-3 div.sk-toggleable__content {max-height: 0;max-width: 0;overflow: hidden;text-align: left;background-color: #f0f8ff;}#sk-container-id-3 div.sk-toggleable__content pre {margin: 0.2em;color: black;border-radius: 0.25em;background-color: #f0f8ff;}#sk-container-id-3 input.sk-toggleable__control:checked~div.sk-toggleable__content {max-height: 200px;max-width: 100%;overflow: auto;}#sk-container-id-3 input.sk-toggleable__control:checked~label.sk-toggleable__label-arrow:before {content: \"▾\";}#sk-container-id-3 div.sk-estimator input.sk-toggleable__control:checked~label.sk-toggleable__label {background-color: #d4ebff;}#sk-container-id-3 div.sk-label input.sk-toggleable__control:checked~label.sk-toggleable__label {background-color: #d4ebff;}#sk-container-id-3 input.sk-hidden--visually {border: 0;clip: rect(1px 1px 1px 1px);clip: rect(1px, 1px, 1px, 1px);height: 1px;margin: -1px;overflow: hidden;padding: 0;position: absolute;width: 1px;}#sk-container-id-3 div.sk-estimator {font-family: monospace;background-color: #f0f8ff;border: 1px dotted black;border-radius: 0.25em;box-sizing: border-box;margin-bottom: 0.5em;}#sk-container-id-3 div.sk-estimator:hover {background-color: #d4ebff;}#sk-container-id-3 div.sk-parallel-item::after {content: \"\";width: 100%;border-bottom: 1px solid gray;flex-grow: 1;}#sk-container-id-3 div.sk-label:hover label.sk-toggleable__label {background-color: #d4ebff;}#sk-container-id-3 div.sk-serial::before {content: \"\";position: absolute;border-left: 1px solid gray;box-sizing: border-box;top: 0;bottom: 0;left: 50%;z-index: 0;}#sk-container-id-3 div.sk-serial {display: flex;flex-direction: column;align-items: center;background-color: white;padding-right: 0.2em;padding-left: 0.2em;position: relative;}#sk-container-id-3 div.sk-item {position: relative;z-index: 1;}#sk-container-id-3 div.sk-parallel {display: flex;align-items: stretch;justify-content: center;background-color: white;position: relative;}#sk-container-id-3 div.sk-item::before, #sk-container-id-3 div.sk-parallel-item::before {content: \"\";position: absolute;border-left: 1px solid gray;box-sizing: border-box;top: 0;bottom: 0;left: 50%;z-index: -1;}#sk-container-id-3 div.sk-parallel-item {display: flex;flex-direction: column;z-index: 1;position: relative;background-color: white;}#sk-container-id-3 div.sk-parallel-item:first-child::after {align-self: flex-end;width: 50%;}#sk-container-id-3 div.sk-parallel-item:last-child::after {align-self: flex-start;width: 50%;}#sk-container-id-3 div.sk-parallel-item:only-child::after {width: 0;}#sk-container-id-3 div.sk-dashed-wrapped {border: 1px dashed gray;margin: 0 0.4em 0.5em 0.4em;box-sizing: border-box;padding-bottom: 0.4em;background-color: white;}#sk-container-id-3 div.sk-label label {font-family: monospace;font-weight: bold;display: inline-block;line-height: 1.2em;}#sk-container-id-3 div.sk-label-container {text-align: center;}#sk-container-id-3 div.sk-container {/* jupyter's `normalize.less` sets `[hidden] { display: none; }` but bootstrap.min.css set `[hidden] { display: none !important; }` so we also need the `!important` here to be able to override the default hidden behavior on the sphinx rendered scikit-learn.org. See: https://github.com/scikit-learn/scikit-learn/issues/21755 */display: inline-block !important;position: relative;}#sk-container-id-3 div.sk-text-repr-fallback {display: none;}</style><div id=\"sk-container-id-3\" class=\"sk-top-container\"><div class=\"sk-text-repr-fallback\"><pre>DecisionTreeClassifier()</pre><b>In a Jupyter environment, please rerun this cell to show the HTML representation or trust the notebook. <br />On GitHub, the HTML representation is unable to render, please try loading this page with nbviewer.org.</b></div><div class=\"sk-container\" hidden><div class=\"sk-item\"><div class=\"sk-estimator sk-toggleable\"><input class=\"sk-toggleable__control sk-hidden--visually\" id=\"sk-estimator-id-5\" type=\"checkbox\" checked><label for=\"sk-estimator-id-5\" class=\"sk-toggleable__label sk-toggleable__label-arrow\">DecisionTreeClassifier</label><div class=\"sk-toggleable__content\"><pre>DecisionTreeClassifier()</pre></div></div></div></div></div>"
      ],
      "text/plain": [
       "DecisionTreeClassifier()"
      ]
     },
     "execution_count": 21,
     "metadata": {},
     "output_type": "execute_result"
    }
   ],
   "source": [
    "clf = DecisionTreeClassifier(max_depth =None)\n",
    "clf.fit(x_train, y_train)\n"
   ]
  },
  {
   "cell_type": "code",
   "execution_count": 22,
   "id": "8a82612d",
   "metadata": {},
   "outputs": [
    {
     "name": "stdout",
     "output_type": "stream",
     "text": [
      "[0.67447917 0.82291667 0.828125   0.65625    0.66927083 0.6796875\n",
      " 0.8828125  0.921875   0.828125   0.86979167]\n",
      "0.7893229166666667\n"
     ]
    }
   ],
   "source": [
    "print(cross_val_score(clf, x_train, y_train, cv=cv))\n",
    "print(cross_val_score(clf, x_train, y_train, cv=cv).mean())"
   ]
  },
  {
   "cell_type": "code",
   "execution_count": 23,
   "id": "cb8c9875",
   "metadata": {},
   "outputs": [
    {
     "data": {
      "text/html": [
       "<style>#sk-container-id-4 {color: black;background-color: white;}#sk-container-id-4 pre{padding: 0;}#sk-container-id-4 div.sk-toggleable {background-color: white;}#sk-container-id-4 label.sk-toggleable__label {cursor: pointer;display: block;width: 100%;margin-bottom: 0;padding: 0.3em;box-sizing: border-box;text-align: center;}#sk-container-id-4 label.sk-toggleable__label-arrow:before {content: \"▸\";float: left;margin-right: 0.25em;color: #696969;}#sk-container-id-4 label.sk-toggleable__label-arrow:hover:before {color: black;}#sk-container-id-4 div.sk-estimator:hover label.sk-toggleable__label-arrow:before {color: black;}#sk-container-id-4 div.sk-toggleable__content {max-height: 0;max-width: 0;overflow: hidden;text-align: left;background-color: #f0f8ff;}#sk-container-id-4 div.sk-toggleable__content pre {margin: 0.2em;color: black;border-radius: 0.25em;background-color: #f0f8ff;}#sk-container-id-4 input.sk-toggleable__control:checked~div.sk-toggleable__content {max-height: 200px;max-width: 100%;overflow: auto;}#sk-container-id-4 input.sk-toggleable__control:checked~label.sk-toggleable__label-arrow:before {content: \"▾\";}#sk-container-id-4 div.sk-estimator input.sk-toggleable__control:checked~label.sk-toggleable__label {background-color: #d4ebff;}#sk-container-id-4 div.sk-label input.sk-toggleable__control:checked~label.sk-toggleable__label {background-color: #d4ebff;}#sk-container-id-4 input.sk-hidden--visually {border: 0;clip: rect(1px 1px 1px 1px);clip: rect(1px, 1px, 1px, 1px);height: 1px;margin: -1px;overflow: hidden;padding: 0;position: absolute;width: 1px;}#sk-container-id-4 div.sk-estimator {font-family: monospace;background-color: #f0f8ff;border: 1px dotted black;border-radius: 0.25em;box-sizing: border-box;margin-bottom: 0.5em;}#sk-container-id-4 div.sk-estimator:hover {background-color: #d4ebff;}#sk-container-id-4 div.sk-parallel-item::after {content: \"\";width: 100%;border-bottom: 1px solid gray;flex-grow: 1;}#sk-container-id-4 div.sk-label:hover label.sk-toggleable__label {background-color: #d4ebff;}#sk-container-id-4 div.sk-serial::before {content: \"\";position: absolute;border-left: 1px solid gray;box-sizing: border-box;top: 0;bottom: 0;left: 50%;z-index: 0;}#sk-container-id-4 div.sk-serial {display: flex;flex-direction: column;align-items: center;background-color: white;padding-right: 0.2em;padding-left: 0.2em;position: relative;}#sk-container-id-4 div.sk-item {position: relative;z-index: 1;}#sk-container-id-4 div.sk-parallel {display: flex;align-items: stretch;justify-content: center;background-color: white;position: relative;}#sk-container-id-4 div.sk-item::before, #sk-container-id-4 div.sk-parallel-item::before {content: \"\";position: absolute;border-left: 1px solid gray;box-sizing: border-box;top: 0;bottom: 0;left: 50%;z-index: -1;}#sk-container-id-4 div.sk-parallel-item {display: flex;flex-direction: column;z-index: 1;position: relative;background-color: white;}#sk-container-id-4 div.sk-parallel-item:first-child::after {align-self: flex-end;width: 50%;}#sk-container-id-4 div.sk-parallel-item:last-child::after {align-self: flex-start;width: 50%;}#sk-container-id-4 div.sk-parallel-item:only-child::after {width: 0;}#sk-container-id-4 div.sk-dashed-wrapped {border: 1px dashed gray;margin: 0 0.4em 0.5em 0.4em;box-sizing: border-box;padding-bottom: 0.4em;background-color: white;}#sk-container-id-4 div.sk-label label {font-family: monospace;font-weight: bold;display: inline-block;line-height: 1.2em;}#sk-container-id-4 div.sk-label-container {text-align: center;}#sk-container-id-4 div.sk-container {/* jupyter's `normalize.less` sets `[hidden] { display: none; }` but bootstrap.min.css set `[hidden] { display: none !important; }` so we also need the `!important` here to be able to override the default hidden behavior on the sphinx rendered scikit-learn.org. See: https://github.com/scikit-learn/scikit-learn/issues/21755 */display: inline-block !important;position: relative;}#sk-container-id-4 div.sk-text-repr-fallback {display: none;}</style><div id=\"sk-container-id-4\" class=\"sk-top-container\"><div class=\"sk-text-repr-fallback\"><pre>BaggingClassifier(base_estimator=DecisionTreeClassifier())</pre><b>In a Jupyter environment, please rerun this cell to show the HTML representation or trust the notebook. <br />On GitHub, the HTML representation is unable to render, please try loading this page with nbviewer.org.</b></div><div class=\"sk-container\" hidden><div class=\"sk-item sk-dashed-wrapped\"><div class=\"sk-label-container\"><div class=\"sk-label sk-toggleable\"><input class=\"sk-toggleable__control sk-hidden--visually\" id=\"sk-estimator-id-6\" type=\"checkbox\" ><label for=\"sk-estimator-id-6\" class=\"sk-toggleable__label sk-toggleable__label-arrow\">BaggingClassifier</label><div class=\"sk-toggleable__content\"><pre>BaggingClassifier(base_estimator=DecisionTreeClassifier())</pre></div></div></div><div class=\"sk-parallel\"><div class=\"sk-parallel-item\"><div class=\"sk-item\"><div class=\"sk-label-container\"><div class=\"sk-label sk-toggleable\"><input class=\"sk-toggleable__control sk-hidden--visually\" id=\"sk-estimator-id-7\" type=\"checkbox\" ><label for=\"sk-estimator-id-7\" class=\"sk-toggleable__label sk-toggleable__label-arrow\">base_estimator: DecisionTreeClassifier</label><div class=\"sk-toggleable__content\"><pre>DecisionTreeClassifier()</pre></div></div></div><div class=\"sk-serial\"><div class=\"sk-item\"><div class=\"sk-estimator sk-toggleable\"><input class=\"sk-toggleable__control sk-hidden--visually\" id=\"sk-estimator-id-8\" type=\"checkbox\" ><label for=\"sk-estimator-id-8\" class=\"sk-toggleable__label sk-toggleable__label-arrow\">DecisionTreeClassifier</label><div class=\"sk-toggleable__content\"><pre>DecisionTreeClassifier()</pre></div></div></div></div></div></div></div></div></div></div>"
      ],
      "text/plain": [
       "BaggingClassifier(base_estimator=DecisionTreeClassifier())"
      ]
     },
     "execution_count": 23,
     "metadata": {},
     "output_type": "execute_result"
    }
   ],
   "source": [
    "bdt = BaggingClassifier(DecisionTreeClassifier())\n",
    "bdt.fit(x_train, y_train)"
   ]
  },
  {
   "cell_type": "code",
   "execution_count": 24,
   "id": "d080b08b",
   "metadata": {},
   "outputs": [
    {
     "name": "stdout",
     "output_type": "stream",
     "text": [
      "[0.87239583 0.88541667 0.828125   0.890625   0.9375     0.91145833\n",
      " 0.91666667 0.94791667 0.91927083 0.8671875 ]\n",
      "0.88203125\n"
     ]
    }
   ],
   "source": [
    "print(cross_val_score(bdt, x_train, y_train, cv=cv))\n",
    "print(cross_val_score(bdt, x_train, y_train, cv=cv).mean())"
   ]
  },
  {
   "cell_type": "code",
   "execution_count": 25,
   "id": "cb133bd3",
   "metadata": {},
   "outputs": [
    {
     "data": {
      "text/html": [
       "<style>#sk-container-id-5 {color: black;background-color: white;}#sk-container-id-5 pre{padding: 0;}#sk-container-id-5 div.sk-toggleable {background-color: white;}#sk-container-id-5 label.sk-toggleable__label {cursor: pointer;display: block;width: 100%;margin-bottom: 0;padding: 0.3em;box-sizing: border-box;text-align: center;}#sk-container-id-5 label.sk-toggleable__label-arrow:before {content: \"▸\";float: left;margin-right: 0.25em;color: #696969;}#sk-container-id-5 label.sk-toggleable__label-arrow:hover:before {color: black;}#sk-container-id-5 div.sk-estimator:hover label.sk-toggleable__label-arrow:before {color: black;}#sk-container-id-5 div.sk-toggleable__content {max-height: 0;max-width: 0;overflow: hidden;text-align: left;background-color: #f0f8ff;}#sk-container-id-5 div.sk-toggleable__content pre {margin: 0.2em;color: black;border-radius: 0.25em;background-color: #f0f8ff;}#sk-container-id-5 input.sk-toggleable__control:checked~div.sk-toggleable__content {max-height: 200px;max-width: 100%;overflow: auto;}#sk-container-id-5 input.sk-toggleable__control:checked~label.sk-toggleable__label-arrow:before {content: \"▾\";}#sk-container-id-5 div.sk-estimator input.sk-toggleable__control:checked~label.sk-toggleable__label {background-color: #d4ebff;}#sk-container-id-5 div.sk-label input.sk-toggleable__control:checked~label.sk-toggleable__label {background-color: #d4ebff;}#sk-container-id-5 input.sk-hidden--visually {border: 0;clip: rect(1px 1px 1px 1px);clip: rect(1px, 1px, 1px, 1px);height: 1px;margin: -1px;overflow: hidden;padding: 0;position: absolute;width: 1px;}#sk-container-id-5 div.sk-estimator {font-family: monospace;background-color: #f0f8ff;border: 1px dotted black;border-radius: 0.25em;box-sizing: border-box;margin-bottom: 0.5em;}#sk-container-id-5 div.sk-estimator:hover {background-color: #d4ebff;}#sk-container-id-5 div.sk-parallel-item::after {content: \"\";width: 100%;border-bottom: 1px solid gray;flex-grow: 1;}#sk-container-id-5 div.sk-label:hover label.sk-toggleable__label {background-color: #d4ebff;}#sk-container-id-5 div.sk-serial::before {content: \"\";position: absolute;border-left: 1px solid gray;box-sizing: border-box;top: 0;bottom: 0;left: 50%;z-index: 0;}#sk-container-id-5 div.sk-serial {display: flex;flex-direction: column;align-items: center;background-color: white;padding-right: 0.2em;padding-left: 0.2em;position: relative;}#sk-container-id-5 div.sk-item {position: relative;z-index: 1;}#sk-container-id-5 div.sk-parallel {display: flex;align-items: stretch;justify-content: center;background-color: white;position: relative;}#sk-container-id-5 div.sk-item::before, #sk-container-id-5 div.sk-parallel-item::before {content: \"\";position: absolute;border-left: 1px solid gray;box-sizing: border-box;top: 0;bottom: 0;left: 50%;z-index: -1;}#sk-container-id-5 div.sk-parallel-item {display: flex;flex-direction: column;z-index: 1;position: relative;background-color: white;}#sk-container-id-5 div.sk-parallel-item:first-child::after {align-self: flex-end;width: 50%;}#sk-container-id-5 div.sk-parallel-item:last-child::after {align-self: flex-start;width: 50%;}#sk-container-id-5 div.sk-parallel-item:only-child::after {width: 0;}#sk-container-id-5 div.sk-dashed-wrapped {border: 1px dashed gray;margin: 0 0.4em 0.5em 0.4em;box-sizing: border-box;padding-bottom: 0.4em;background-color: white;}#sk-container-id-5 div.sk-label label {font-family: monospace;font-weight: bold;display: inline-block;line-height: 1.2em;}#sk-container-id-5 div.sk-label-container {text-align: center;}#sk-container-id-5 div.sk-container {/* jupyter's `normalize.less` sets `[hidden] { display: none; }` but bootstrap.min.css set `[hidden] { display: none !important; }` so we also need the `!important` here to be able to override the default hidden behavior on the sphinx rendered scikit-learn.org. See: https://github.com/scikit-learn/scikit-learn/issues/21755 */display: inline-block !important;position: relative;}#sk-container-id-5 div.sk-text-repr-fallback {display: none;}</style><div id=\"sk-container-id-5\" class=\"sk-top-container\"><div class=\"sk-text-repr-fallback\"><pre>RandomForestClassifier(n_estimators=10, n_jobs=-1)</pre><b>In a Jupyter environment, please rerun this cell to show the HTML representation or trust the notebook. <br />On GitHub, the HTML representation is unable to render, please try loading this page with nbviewer.org.</b></div><div class=\"sk-container\" hidden><div class=\"sk-item\"><div class=\"sk-estimator sk-toggleable\"><input class=\"sk-toggleable__control sk-hidden--visually\" id=\"sk-estimator-id-9\" type=\"checkbox\" checked><label for=\"sk-estimator-id-9\" class=\"sk-toggleable__label sk-toggleable__label-arrow\">RandomForestClassifier</label><div class=\"sk-toggleable__content\"><pre>RandomForestClassifier(n_estimators=10, n_jobs=-1)</pre></div></div></div></div></div>"
      ],
      "text/plain": [
       "RandomForestClassifier(n_estimators=10, n_jobs=-1)"
      ]
     },
     "execution_count": 25,
     "metadata": {},
     "output_type": "execute_result"
    }
   ],
   "source": [
    "rf = RandomForestClassifier(n_estimators=10, n_jobs=-1)\n",
    "rf.fit(x_train, y_train)"
   ]
  },
  {
   "cell_type": "code",
   "execution_count": 26,
   "id": "5edf87a5",
   "metadata": {},
   "outputs": [
    {
     "name": "stdout",
     "output_type": "stream",
     "text": [
      "[0.88802083 0.765625   0.8359375  0.83854167 0.73177083 0.796875\n",
      " 0.80989583 0.86458333 0.671875   0.765625  ]\n",
      "0.825\n"
     ]
    }
   ],
   "source": [
    "print(cross_val_score(rf, x_train, y_train, cv=cv))\n",
    "print(cross_val_score(rf, x_train, y_train, cv=cv).mean())"
   ]
  },
  {
   "cell_type": "code",
   "execution_count": 27,
   "id": "6f6fa9a3",
   "metadata": {},
   "outputs": [
    {
     "data": {
      "text/html": [
       "<style>#sk-container-id-6 {color: black;background-color: white;}#sk-container-id-6 pre{padding: 0;}#sk-container-id-6 div.sk-toggleable {background-color: white;}#sk-container-id-6 label.sk-toggleable__label {cursor: pointer;display: block;width: 100%;margin-bottom: 0;padding: 0.3em;box-sizing: border-box;text-align: center;}#sk-container-id-6 label.sk-toggleable__label-arrow:before {content: \"▸\";float: left;margin-right: 0.25em;color: #696969;}#sk-container-id-6 label.sk-toggleable__label-arrow:hover:before {color: black;}#sk-container-id-6 div.sk-estimator:hover label.sk-toggleable__label-arrow:before {color: black;}#sk-container-id-6 div.sk-toggleable__content {max-height: 0;max-width: 0;overflow: hidden;text-align: left;background-color: #f0f8ff;}#sk-container-id-6 div.sk-toggleable__content pre {margin: 0.2em;color: black;border-radius: 0.25em;background-color: #f0f8ff;}#sk-container-id-6 input.sk-toggleable__control:checked~div.sk-toggleable__content {max-height: 200px;max-width: 100%;overflow: auto;}#sk-container-id-6 input.sk-toggleable__control:checked~label.sk-toggleable__label-arrow:before {content: \"▾\";}#sk-container-id-6 div.sk-estimator input.sk-toggleable__control:checked~label.sk-toggleable__label {background-color: #d4ebff;}#sk-container-id-6 div.sk-label input.sk-toggleable__control:checked~label.sk-toggleable__label {background-color: #d4ebff;}#sk-container-id-6 input.sk-hidden--visually {border: 0;clip: rect(1px 1px 1px 1px);clip: rect(1px, 1px, 1px, 1px);height: 1px;margin: -1px;overflow: hidden;padding: 0;position: absolute;width: 1px;}#sk-container-id-6 div.sk-estimator {font-family: monospace;background-color: #f0f8ff;border: 1px dotted black;border-radius: 0.25em;box-sizing: border-box;margin-bottom: 0.5em;}#sk-container-id-6 div.sk-estimator:hover {background-color: #d4ebff;}#sk-container-id-6 div.sk-parallel-item::after {content: \"\";width: 100%;border-bottom: 1px solid gray;flex-grow: 1;}#sk-container-id-6 div.sk-label:hover label.sk-toggleable__label {background-color: #d4ebff;}#sk-container-id-6 div.sk-serial::before {content: \"\";position: absolute;border-left: 1px solid gray;box-sizing: border-box;top: 0;bottom: 0;left: 50%;z-index: 0;}#sk-container-id-6 div.sk-serial {display: flex;flex-direction: column;align-items: center;background-color: white;padding-right: 0.2em;padding-left: 0.2em;position: relative;}#sk-container-id-6 div.sk-item {position: relative;z-index: 1;}#sk-container-id-6 div.sk-parallel {display: flex;align-items: stretch;justify-content: center;background-color: white;position: relative;}#sk-container-id-6 div.sk-item::before, #sk-container-id-6 div.sk-parallel-item::before {content: \"\";position: absolute;border-left: 1px solid gray;box-sizing: border-box;top: 0;bottom: 0;left: 50%;z-index: -1;}#sk-container-id-6 div.sk-parallel-item {display: flex;flex-direction: column;z-index: 1;position: relative;background-color: white;}#sk-container-id-6 div.sk-parallel-item:first-child::after {align-self: flex-end;width: 50%;}#sk-container-id-6 div.sk-parallel-item:last-child::after {align-self: flex-start;width: 50%;}#sk-container-id-6 div.sk-parallel-item:only-child::after {width: 0;}#sk-container-id-6 div.sk-dashed-wrapped {border: 1px dashed gray;margin: 0 0.4em 0.5em 0.4em;box-sizing: border-box;padding-bottom: 0.4em;background-color: white;}#sk-container-id-6 div.sk-label label {font-family: monospace;font-weight: bold;display: inline-block;line-height: 1.2em;}#sk-container-id-6 div.sk-label-container {text-align: center;}#sk-container-id-6 div.sk-container {/* jupyter's `normalize.less` sets `[hidden] { display: none; }` but bootstrap.min.css set `[hidden] { display: none !important; }` so we also need the `!important` here to be able to override the default hidden behavior on the sphinx rendered scikit-learn.org. See: https://github.com/scikit-learn/scikit-learn/issues/21755 */display: inline-block !important;position: relative;}#sk-container-id-6 div.sk-text-repr-fallback {display: none;}</style><div id=\"sk-container-id-6\" class=\"sk-top-container\"><div class=\"sk-text-repr-fallback\"><pre>ExtraTreesClassifier(n_jobs=-1)</pre><b>In a Jupyter environment, please rerun this cell to show the HTML representation or trust the notebook. <br />On GitHub, the HTML representation is unable to render, please try loading this page with nbviewer.org.</b></div><div class=\"sk-container\" hidden><div class=\"sk-item\"><div class=\"sk-estimator sk-toggleable\"><input class=\"sk-toggleable__control sk-hidden--visually\" id=\"sk-estimator-id-10\" type=\"checkbox\" checked><label for=\"sk-estimator-id-10\" class=\"sk-toggleable__label sk-toggleable__label-arrow\">ExtraTreesClassifier</label><div class=\"sk-toggleable__content\"><pre>ExtraTreesClassifier(n_jobs=-1)</pre></div></div></div></div></div>"
      ],
      "text/plain": [
       "ExtraTreesClassifier(n_jobs=-1)"
      ]
     },
     "execution_count": 27,
     "metadata": {},
     "output_type": "execute_result"
    }
   ],
   "source": [
    "etc = ExtraTreesClassifier(n_jobs=-1)\n",
    "etc.fit(x_train, y_train)"
   ]
  },
  {
   "cell_type": "code",
   "execution_count": 28,
   "id": "239ceff2",
   "metadata": {},
   "outputs": [
    {
     "name": "stdout",
     "output_type": "stream",
     "text": [
      "[0.99479167 0.98177083 0.97916667 0.99739583 0.98177083 0.9765625\n",
      " 0.99479167 1.         0.98958333 0.98177083]\n",
      "0.9856770833333334\n"
     ]
    }
   ],
   "source": [
    "print(cross_val_score(etc, x_train, y_train, cv=cv))\n",
    "print(cross_val_score(etc, x_train, y_train, cv=cv).mean())"
   ]
  },
  {
   "cell_type": "code",
   "execution_count": 29,
   "id": "56d462b4",
   "metadata": {},
   "outputs": [
    {
     "data": {
      "text/plain": [
       "0.6616223207686622"
      ]
     },
     "execution_count": 29,
     "metadata": {},
     "output_type": "execute_result"
    }
   ],
   "source": [
    "cross_val_score(knn, x_test, y_test, cv=cv).mean()"
   ]
  },
  {
   "cell_type": "code",
   "execution_count": 30,
   "id": "b8a86117",
   "metadata": {},
   "outputs": [
    {
     "name": "stdout",
     "output_type": "stream",
     "text": [
      "Fitting 10 folds for each of 100 candidates, totalling 1000 fits\n",
      "Fitting 10 folds for each of 100 candidates, totalling 1000 fits\n",
      "Fitting 10 folds for each of 100 candidates, totalling 1000 fits\n",
      "Fitting 10 folds for each of 100 candidates, totalling 1000 fits\n",
      "Fitting 10 folds for each of 100 candidates, totalling 1000 fits\n",
      "Fitting 10 folds for each of 100 candidates, totalling 1000 fits\n",
      "Fitting 10 folds for each of 100 candidates, totalling 1000 fits\n",
      "Fitting 10 folds for each of 100 candidates, totalling 1000 fits\n",
      "Fitting 10 folds for each of 100 candidates, totalling 1000 fits\n",
      "Fitting 10 folds for each of 100 candidates, totalling 1000 fits\n"
     ]
    },
    {
     "data": {
      "text/plain": [
       "0.554039172209904"
      ]
     },
     "execution_count": 30,
     "metadata": {},
     "output_type": "execute_result"
    }
   ],
   "source": [
    "cross_val_score(sgd_cls_gs, x_test, y_test, cv=cv).mean()"
   ]
  },
  {
   "cell_type": "code",
   "execution_count": 31,
   "id": "f0062ba5",
   "metadata": {},
   "outputs": [
    {
     "data": {
      "text/plain": [
       "0.667209903917221"
      ]
     },
     "execution_count": 31,
     "metadata": {},
     "output_type": "execute_result"
    }
   ],
   "source": [
    "cross_val_score(clf, x_test, y_test, cv=cv).mean()"
   ]
  },
  {
   "cell_type": "code",
   "execution_count": 32,
   "id": "5a701dad",
   "metadata": {},
   "outputs": [
    {
     "data": {
      "text/plain": [
       "0.8177272727272727"
      ]
     },
     "execution_count": 32,
     "metadata": {},
     "output_type": "execute_result"
    }
   ],
   "source": [
    "cross_val_score(bdt, x_test, y_test, cv=cv).mean()"
   ]
  },
  {
   "cell_type": "code",
   "execution_count": 33,
   "id": "21209ab0",
   "metadata": {},
   "outputs": [
    {
     "data": {
      "text/plain": [
       "0.7777161862527716"
      ]
     },
     "execution_count": 33,
     "metadata": {},
     "output_type": "execute_result"
    }
   ],
   "source": [
    "cross_val_score(rf, x_test, y_test, cv=cv).mean()"
   ]
  },
  {
   "cell_type": "code",
   "execution_count": 34,
   "id": "4922fab8",
   "metadata": {},
   "outputs": [
    {
     "data": {
      "text/plain": [
       "0.9769031781226903"
      ]
     },
     "execution_count": 34,
     "metadata": {},
     "output_type": "execute_result"
    }
   ],
   "source": [
    "cross_val_score(etc, x_test, y_test, cv=cv).mean()"
   ]
  },
  {
   "cell_type": "code",
   "execution_count": 35,
   "id": "51ad3bba",
   "metadata": {},
   "outputs": [],
   "source": [
    "predictC = knn.predict(x_test)\n",
    "probaC = knn.predict_proba(x_test)"
   ]
  },
  {
   "cell_type": "code",
   "execution_count": 36,
   "id": "00082162",
   "metadata": {},
   "outputs": [],
   "source": [
    "predicte = etc.predict(x_test)\n",
    "probae = etc.predict_proba(x_test)"
   ]
  },
  {
   "cell_type": "code",
   "execution_count": 37,
   "id": "18423e69",
   "metadata": {},
   "outputs": [
    {
     "data": {
      "text/plain": [
       "array([[711, 107],\n",
       "       [272, 556]])"
      ]
     },
     "execution_count": 37,
     "metadata": {},
     "output_type": "execute_result"
    }
   ],
   "source": [
    "# TP FN\n",
    "# FP TN\n",
    "confusion_matrix(y_test, predictC)"
   ]
  },
  {
   "cell_type": "code",
   "execution_count": 38,
   "id": "1c70b109",
   "metadata": {},
   "outputs": [
    {
     "data": {
      "text/plain": [
       "array([[807,  11],\n",
       "       [ 11, 817]])"
      ]
     },
     "execution_count": 38,
     "metadata": {},
     "output_type": "execute_result"
    }
   ],
   "source": [
    "# TP FN\n",
    "# FP TN\n",
    "confusion_matrix(y_test, predicte)"
   ]
  },
  {
   "cell_type": "code",
   "execution_count": 39,
   "id": "faa61c37",
   "metadata": {},
   "outputs": [
    {
     "name": "stdout",
     "output_type": "stream",
     "text": [
      "0.7697448359659781\n"
     ]
    }
   ],
   "source": [
    "print(accuracy_score(y_test, predictC))"
   ]
  },
  {
   "cell_type": "code",
   "execution_count": 40,
   "id": "c706a5f3",
   "metadata": {},
   "outputs": [
    {
     "name": "stdout",
     "output_type": "stream",
     "text": [
      "0.6714975845410628\n"
     ]
    }
   ],
   "source": [
    "print(recall_score(y_test, predictC))"
   ]
  },
  {
   "cell_type": "code",
   "execution_count": 41,
   "id": "5dbdb58f",
   "metadata": {},
   "outputs": [
    {
     "name": "stdout",
     "output_type": "stream",
     "text": [
      "              precision    recall  f1-score   support\n",
      "\n",
      "           0       0.72      0.87      0.79       818\n",
      "           1       0.84      0.67      0.75       828\n",
      "\n",
      "    accuracy                           0.77      1646\n",
      "   macro avg       0.78      0.77      0.77      1646\n",
      "weighted avg       0.78      0.77      0.77      1646\n",
      "\n"
     ]
    }
   ],
   "source": [
    "print(classification_report(y_test, predictC))"
   ]
  },
  {
   "cell_type": "code",
   "execution_count": 42,
   "id": "0f8e71ee",
   "metadata": {},
   "outputs": [
    {
     "name": "stdout",
     "output_type": "stream",
     "text": [
      "              precision    recall  f1-score   support\n",
      "\n",
      "           0       0.99      0.99      0.99       818\n",
      "           1       0.99      0.99      0.99       828\n",
      "\n",
      "    accuracy                           0.99      1646\n",
      "   macro avg       0.99      0.99      0.99      1646\n",
      "weighted avg       0.99      0.99      0.99      1646\n",
      "\n"
     ]
    }
   ],
   "source": [
    "print(classification_report(y_test, predicte))"
   ]
  },
  {
   "cell_type": "code",
   "execution_count": 43,
   "id": "8e0e7be5",
   "metadata": {},
   "outputs": [
    {
     "data": {
      "image/png": "[encoded data removed]",
      "text/plain": [
       "<Figure size 576x576 with 1 Axes>"
      ]
     },
     "metadata": {},
     "output_type": "display_data"
    }
   ],
   "source": [
    "fpr, tpr, _ = roc_curve(y_test, probaC[:,1])\n",
    "roc_auc = auc(fpr, tpr)\n",
    "\n",
    "plt.figure(figsize=[8,8])\n",
    "plt.plot(fpr, tpr, label='ROC curve (area = %0.2f)' % roc_auc, linewidth=4)\n",
    "plt.plot([0, 1], [0, 1], 'k--', linewidth=4)\n",
    "plt.xlim([-0.05, 1.0])\n",
    "plt.ylim([-0.05, 1.05])\n",
    "plt.xlabel('False Positive Rate', fontsize=18)\n",
    "plt.ylabel('True Positive Rate', fontsize=18)\n",
    "# plt.title('Receiver operating characteristic for cancer detection', fontsize=18)\n",
    "plt.legend(loc=\"lower right\")\n",
    "plt.show()"
   ]
  },
  {
   "cell_type": "code",
   "execution_count": 44,
   "id": "a706babf",
   "metadata": {},
   "outputs": [
    {
     "data": {
      "image/png": "[encoded data removed]",
      "text/plain": [
       "<Figure size 576x576 with 1 Axes>"
      ]
     },
     "metadata": {},
     "output_type": "display_data"
    }
   ],
   "source": [
    "# Data leakage much \n",
    "\n",
    "fpr, tpr, _ = roc_curve(y_test, probae[:,1])\n",
    "roc_auc = auc(fpr, tpr)\n",
    "\n",
    "plt.figure(figsize=[8,8])\n",
    "plt.plot(fpr, tpr, label='ROC curve (area = %0.2f)' % roc_auc, linewidth=4)\n",
    "plt.plot([0, 1], [0, 1], 'k--', linewidth=4)\n",
    "plt.xlim([-0.05, 1.0])\n",
    "plt.ylim([-0.05, 1.05])\n",
    "plt.xlabel('False Positive Rate', fontsize=18)\n",
    "plt.ylabel('True Positive Rate', fontsize=18)\n",
    "# plt.title('Receiver operating characteristic for cancer detection', fontsize=18)\n",
    "plt.legend(loc=\"lower right\")\n",
    "plt.show()"
   ]
  },
  {
   "cell_type": "code",
   "execution_count": null,
   "id": "733063ca",
   "metadata": {},
   "outputs": [],
   "source": []
  }
 ],
 "metadata": {
  "kernelspec": {
   "display_name": "Python 3 (ipykernel)",
   "language": "python",
   "name": "python3"
  },
  "language_info": {
   "codemirror_mode": {
    "name": "ipython",
    "version": 3
   },
   "file_extension": ".py",
   "mimetype": "text/x-python",
   "name": "python",
   "nbconvert_exporter": "python",
   "pygments_lexer": "ipython3",
   "version": "3.9.12"
  }
 },
 "nbformat": 4,
 "nbformat_minor": 5
}
